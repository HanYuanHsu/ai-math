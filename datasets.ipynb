{
 "cells": [
  {
   "cell_type": "code",
   "execution_count": 1,
   "metadata": {},
   "outputs": [],
   "source": [
    "import os\n",
    "import json\n",
    "import pandas as pd\n",
    "\n",
    "test_root = \"data/test\"\n",
    "\n",
    "data_records = []\n",
    "for kind in os.listdir(test_root):\n",
    "    path = os.path.join(test_root, kind)\n",
    "    for f in os.listdir(path):\n",
    "        if not f.endswith('.json'):\n",
    "            print(\"warning: has non-json file\")\n",
    "            continue\n",
    "\n",
    "        with open(os.path.join(path, f), \"r\") as j:\n",
    "            data = json.load(j)\n",
    "            data[\"json_number\"] = int(f.split('.')[0]) # json_number means \n",
    "                                                       # if this data comes from 1.json\n",
    "                                                       # then it is 1\n",
    "            data_records.append(data)\n",
    "\n",
    "df = pd.DataFrame(data_records)\n",
    "df['id'] = df.index"
   ]
  },
  {
   "cell_type": "code",
   "execution_count": 2,
   "metadata": {},
   "outputs": [
    {
     "data": {
      "text/html": [
       "<div>\n",
       "<style scoped>\n",
       "    .dataframe tbody tr th:only-of-type {\n",
       "        vertical-align: middle;\n",
       "    }\n",
       "\n",
       "    .dataframe tbody tr th {\n",
       "        vertical-align: top;\n",
       "    }\n",
       "\n",
       "    .dataframe thead th {\n",
       "        text-align: right;\n",
       "    }\n",
       "</style>\n",
       "<table border=\"1\" class=\"dataframe\">\n",
       "  <thead>\n",
       "    <tr style=\"text-align: right;\">\n",
       "      <th></th>\n",
       "      <th>problem</th>\n",
       "      <th>level</th>\n",
       "      <th>type</th>\n",
       "      <th>solution</th>\n",
       "      <th>json_number</th>\n",
       "      <th>id</th>\n",
       "    </tr>\n",
       "  </thead>\n",
       "  <tbody>\n",
       "    <tr>\n",
       "      <th>0</th>\n",
       "      <td>How many vertical asymptotes does the graph of...</td>\n",
       "      <td>Level 3</td>\n",
       "      <td>Algebra</td>\n",
       "      <td>The denominator of the rational function facto...</td>\n",
       "      <td>1</td>\n",
       "      <td>0</td>\n",
       "    </tr>\n",
       "    <tr>\n",
       "      <th>14</th>\n",
       "      <td>Kite $ABCD$ (a quadrilateral with two pairs of...</td>\n",
       "      <td>Level 3</td>\n",
       "      <td>Algebra</td>\n",
       "      <td>As the problem suggests, we need to compute th...</td>\n",
       "      <td>1026</td>\n",
       "      <td>14</td>\n",
       "    </tr>\n",
       "    <tr>\n",
       "      <th>17</th>\n",
       "      <td>If $A$, $B$ and $C$ are positive integers such...</td>\n",
       "      <td>Level 3</td>\n",
       "      <td>Algebra</td>\n",
       "      <td>Multiplying the numerator and denominator of t...</td>\n",
       "      <td>1034</td>\n",
       "      <td>17</td>\n",
       "    </tr>\n",
       "    <tr>\n",
       "      <th>18</th>\n",
       "      <td>Ten treeks weigh as much as three squigs and o...</td>\n",
       "      <td>Level 3</td>\n",
       "      <td>Algebra</td>\n",
       "      <td>Let $t,s,g$ be the weight of one treek, the we...</td>\n",
       "      <td>1035</td>\n",
       "      <td>18</td>\n",
       "    </tr>\n",
       "    <tr>\n",
       "      <th>23</th>\n",
       "      <td>At constant temperature, the pressure of a sam...</td>\n",
       "      <td>Level 3</td>\n",
       "      <td>Algebra</td>\n",
       "      <td>Since the pressure $p$ of the hydrogen and the...</td>\n",
       "      <td>1049</td>\n",
       "      <td>23</td>\n",
       "    </tr>\n",
       "  </tbody>\n",
       "</table>\n",
       "</div>"
      ],
      "text/plain": [
       "                                              problem    level     type  \\\n",
       "0   How many vertical asymptotes does the graph of...  Level 3  Algebra   \n",
       "14  Kite $ABCD$ (a quadrilateral with two pairs of...  Level 3  Algebra   \n",
       "17  If $A$, $B$ and $C$ are positive integers such...  Level 3  Algebra   \n",
       "18  Ten treeks weigh as much as three squigs and o...  Level 3  Algebra   \n",
       "23  At constant temperature, the pressure of a sam...  Level 3  Algebra   \n",
       "\n",
       "                                             solution  json_number  id  \n",
       "0   The denominator of the rational function facto...            1   0  \n",
       "14  As the problem suggests, we need to compute th...         1026  14  \n",
       "17  Multiplying the numerator and denominator of t...         1034  17  \n",
       "18  Let $t,s,g$ be the weight of one treek, the we...         1035  18  \n",
       "23  Since the pressure $p$ of the hydrogen and the...         1049  23  "
      ]
     },
     "execution_count": 2,
     "metadata": {},
     "output_type": "execute_result"
    }
   ],
   "source": [
    "level = 3\n",
    "df3 = df[df['level'] == f\"Level {level}\"]\n",
    "df3.head()"
   ]
  },
  {
   "cell_type": "code",
   "execution_count": 3,
   "metadata": {},
   "outputs": [
    {
     "data": {
      "text/html": [
       "<div>\n",
       "<style scoped>\n",
       "    .dataframe tbody tr th:only-of-type {\n",
       "        vertical-align: middle;\n",
       "    }\n",
       "\n",
       "    .dataframe tbody tr th {\n",
       "        vertical-align: top;\n",
       "    }\n",
       "\n",
       "    .dataframe thead th {\n",
       "        text-align: right;\n",
       "    }\n",
       "</style>\n",
       "<table border=\"1\" class=\"dataframe\">\n",
       "  <thead>\n",
       "    <tr style=\"text-align: right;\">\n",
       "      <th></th>\n",
       "      <th>problem</th>\n",
       "      <th>level</th>\n",
       "      <th>type</th>\n",
       "      <th>solution</th>\n",
       "      <th>json_number</th>\n",
       "      <th>id</th>\n",
       "      <th>actual</th>\n",
       "    </tr>\n",
       "  </thead>\n",
       "  <tbody>\n",
       "    <tr>\n",
       "      <th>0</th>\n",
       "      <td>How many vertical asymptotes does the graph of...</td>\n",
       "      <td>Level 3</td>\n",
       "      <td>Algebra</td>\n",
       "      <td>The denominator of the rational function facto...</td>\n",
       "      <td>1</td>\n",
       "      <td>0</td>\n",
       "      <td>2.0</td>\n",
       "    </tr>\n",
       "    <tr>\n",
       "      <th>1</th>\n",
       "      <td>What is the positive difference between $120\\%...</td>\n",
       "      <td>Level 1</td>\n",
       "      <td>Algebra</td>\n",
       "      <td>One hundred twenty percent of 30 is $120\\cdot3...</td>\n",
       "      <td>10</td>\n",
       "      <td>1</td>\n",
       "      <td>10.0</td>\n",
       "    </tr>\n",
       "    <tr>\n",
       "      <th>4</th>\n",
       "      <td>If $2^8=4^x$, what is the value of $x$?</td>\n",
       "      <td>Level 1</td>\n",
       "      <td>Algebra</td>\n",
       "      <td>Rewrite $4$ as $2^2$ to find $4^x=2^{2x}$.  Si...</td>\n",
       "      <td>1004</td>\n",
       "      <td>4</td>\n",
       "      <td>4.0</td>\n",
       "    </tr>\n",
       "    <tr>\n",
       "      <th>5</th>\n",
       "      <td>What is the 100th term of the arithmetic seque...</td>\n",
       "      <td>Level 2</td>\n",
       "      <td>Algebra</td>\n",
       "      <td>The common difference is $10 - 6 = 4$, so the ...</td>\n",
       "      <td>1009</td>\n",
       "      <td>5</td>\n",
       "      <td>402.0</td>\n",
       "    </tr>\n",
       "    <tr>\n",
       "      <th>7</th>\n",
       "      <td>Mr. Madoff invests 1000 dollars in a fund that...</td>\n",
       "      <td>Level 4</td>\n",
       "      <td>Algebra</td>\n",
       "      <td>Let $r$ be the annual interest rate.  Then aft...</td>\n",
       "      <td>1014</td>\n",
       "      <td>7</td>\n",
       "      <td>7.0</td>\n",
       "    </tr>\n",
       "    <tr>\n",
       "      <th>...</th>\n",
       "      <td>...</td>\n",
       "      <td>...</td>\n",
       "      <td>...</td>\n",
       "      <td>...</td>\n",
       "      <td>...</td>\n",
       "      <td>...</td>\n",
       "      <td>...</td>\n",
       "    </tr>\n",
       "    <tr>\n",
       "      <th>4987</th>\n",
       "      <td>Given $\\|\\mathbf{v}\\| = 5$ and $\\|\\mathbf{w}\\|...</td>\n",
       "      <td>Level 3</td>\n",
       "      <td>Precalculus</td>\n",
       "      <td>Note that\\n\\begin{align*}\\n\\operatorname{proj}...</td>\n",
       "      <td>98</td>\n",
       "      <td>4987</td>\n",
       "      <td>5.0</td>\n",
       "    </tr>\n",
       "    <tr>\n",
       "      <th>4989</th>\n",
       "      <td>If $0^\\circ &lt; x &lt; 180^\\circ$ and $\\cos x + \\si...</td>\n",
       "      <td>Level 5</td>\n",
       "      <td>Precalculus</td>\n",
       "      <td>From the given equation, $\\cos x = \\frac{1}{2}...</td>\n",
       "      <td>984</td>\n",
       "      <td>4989</td>\n",
       "      <td>14.0</td>\n",
       "    </tr>\n",
       "    <tr>\n",
       "      <th>4990</th>\n",
       "      <td>Let $x_1,$ $x_2,$ $x_3,$ $y_1,$ $y_2,$ and $y_...</td>\n",
       "      <td>Level 5</td>\n",
       "      <td>Precalculus</td>\n",
       "      <td>In general,\\n\\[\\frac{1}{2} \\begin{vmatrix} x_1...</td>\n",
       "      <td>986</td>\n",
       "      <td>4990</td>\n",
       "      <td>144.0</td>\n",
       "    </tr>\n",
       "    <tr>\n",
       "      <th>4992</th>\n",
       "      <td>Compute\\n\\[\\frac{1}{\\cos^2 10^\\circ} + \\frac{1...</td>\n",
       "      <td>Level 4</td>\n",
       "      <td>Precalculus</td>\n",
       "      <td>We can write\\n\\begin{align*}\\n\\frac{1}{\\cos^2 ...</td>\n",
       "      <td>989</td>\n",
       "      <td>4992</td>\n",
       "      <td>12.0</td>\n",
       "    </tr>\n",
       "    <tr>\n",
       "      <th>4998</th>\n",
       "      <td>Find the smallest positive integer solution to...</td>\n",
       "      <td>Level 5</td>\n",
       "      <td>Precalculus</td>\n",
       "      <td>By the tangent addition formula,\\n\\begin{align...</td>\n",
       "      <td>998</td>\n",
       "      <td>4998</td>\n",
       "      <td>159.0</td>\n",
       "    </tr>\n",
       "  </tbody>\n",
       "</table>\n",
       "<p>2885 rows × 7 columns</p>\n",
       "</div>"
      ],
      "text/plain": [
       "                                                problem    level         type  \\\n",
       "0     How many vertical asymptotes does the graph of...  Level 3      Algebra   \n",
       "1     What is the positive difference between $120\\%...  Level 1      Algebra   \n",
       "4               If $2^8=4^x$, what is the value of $x$?  Level 1      Algebra   \n",
       "5     What is the 100th term of the arithmetic seque...  Level 2      Algebra   \n",
       "7     Mr. Madoff invests 1000 dollars in a fund that...  Level 4      Algebra   \n",
       "...                                                 ...      ...          ...   \n",
       "4987  Given $\\|\\mathbf{v}\\| = 5$ and $\\|\\mathbf{w}\\|...  Level 3  Precalculus   \n",
       "4989  If $0^\\circ < x < 180^\\circ$ and $\\cos x + \\si...  Level 5  Precalculus   \n",
       "4990  Let $x_1,$ $x_2,$ $x_3,$ $y_1,$ $y_2,$ and $y_...  Level 5  Precalculus   \n",
       "4992  Compute\\n\\[\\frac{1}{\\cos^2 10^\\circ} + \\frac{1...  Level 4  Precalculus   \n",
       "4998  Find the smallest positive integer solution to...  Level 5  Precalculus   \n",
       "\n",
       "                                               solution  json_number    id  \\\n",
       "0     The denominator of the rational function facto...            1     0   \n",
       "1     One hundred twenty percent of 30 is $120\\cdot3...           10     1   \n",
       "4     Rewrite $4$ as $2^2$ to find $4^x=2^{2x}$.  Si...         1004     4   \n",
       "5     The common difference is $10 - 6 = 4$, so the ...         1009     5   \n",
       "7     Let $r$ be the annual interest rate.  Then aft...         1014     7   \n",
       "...                                                 ...          ...   ...   \n",
       "4987  Note that\\n\\begin{align*}\\n\\operatorname{proj}...           98  4987   \n",
       "4989  From the given equation, $\\cos x = \\frac{1}{2}...          984  4989   \n",
       "4990  In general,\\n\\[\\frac{1}{2} \\begin{vmatrix} x_1...          986  4990   \n",
       "4992  We can write\\n\\begin{align*}\\n\\frac{1}{\\cos^2 ...          989  4992   \n",
       "4998  By the tangent addition formula,\\n\\begin{align...          998  4998   \n",
       "\n",
       "      actual  \n",
       "0        2.0  \n",
       "1       10.0  \n",
       "4        4.0  \n",
       "5      402.0  \n",
       "7        7.0  \n",
       "...      ...  \n",
       "4987     5.0  \n",
       "4989    14.0  \n",
       "4990   144.0  \n",
       "4992    12.0  \n",
       "4998   159.0  \n",
       "\n",
       "[2885 rows x 7 columns]"
      ]
     },
     "execution_count": 3,
     "metadata": {},
     "output_type": "execute_result"
    }
   ],
   "source": [
    "from datasets import MATH\n",
    "df.loc[:, 'actual'] = df['solution'].apply(MATH.extract_answer)\n",
    "df_int = df.dropna(subset=['actual'])\n",
    "df_int"
   ]
  },
  {
   "cell_type": "code",
   "execution_count": 59,
   "metadata": {},
   "outputs": [
    {
     "data": {
      "text/plain": [
       "'The denominator of the rational function factors into $x^2+x-6=(x-2)(x+3)$. Since the numerator is always nonzero, there is a vertical asymptote whenever the denominator is $0$, which occurs for $x = 2$ and $x = -3$.  Therefore, the graph has $\\\\boxed{2}$ vertical asymptotes.'"
      ]
     },
     "execution_count": 59,
     "metadata": {},
     "output_type": "execute_result"
    }
   ],
   "source": [
    "df_int.loc[0, 'solution']"
   ]
  },
  {
   "cell_type": "code",
   "execution_count": 41,
   "metadata": {},
   "outputs": [
    {
     "data": {
      "text/plain": [
       "'One hundred twenty percent of 30 is $120\\\\cdot30\\\\cdot\\\\frac{1}{100}=36$, and $130\\\\%$ of 20 is $ 130\\\\cdot 20\\\\cdot\\\\frac{1}{100}=26$.  The difference between 36 and 26 is $\\\\boxed{10}$.'"
      ]
     },
     "execution_count": 41,
     "metadata": {},
     "output_type": "execute_result"
    }
   ],
   "source": [
    "df_int.loc[1, 'solution']"
   ]
  },
  {
   "cell_type": "code",
   "execution_count": 176,
   "metadata": {},
   "outputs": [],
   "source": [
    "import re\n",
    "from sympy import symbols, simplify, Eq, solve\n",
    "from latex2sympy2 import latex2sympy\n",
    "\n",
    "def get_equations(text: str):\n",
    "    expr_pattern = r'\\$([^$]+)\\$'\n",
    "    eqn_pattern = r'^(.*?)\\s*=\\s*([^=]+).*$'\n",
    "    # we will match each expression with this eqn_pattern\n",
    "    # if the expression turns out to be chained equailties (more than 2 terms) \n",
    "    # then we only extract the first two terms\n",
    "\n",
    "    expression_matches = re.finditer(expr_pattern, text) # all math expressions. The text is scanned from left to right,\n",
    "    # so the expressions that appear will also follow that order\n",
    "    expressions = [] # stores [expr, start_pos, end_pos]\n",
    "\n",
    "    for match in expression_matches:\n",
    "        expr = match.group(1).strip()\n",
    "        start_pos = match.start()\n",
    "        end_pos = match.end()\n",
    "        expressions.append([expr, start_pos, end_pos])\n",
    "\n",
    "    equations = []\n",
    "    for l in expressions:\n",
    "        expr = l[0]\n",
    "        match = re.match(eqn_pattern, expr)\n",
    "        eqn = None\n",
    "        if match:\n",
    "            lhs = match.group(1).strip()\n",
    "            rhs = match.group(2).strip()\n",
    "            eqn = [lhs, rhs]\n",
    "        equations.append(eqn)\n",
    "\n",
    "    # compare lhs and rhs\n",
    "\n",
    "    equalities = {} # a dictionary whose key is the index of the equation in `equations` array\n",
    "                    # and value is boolean\n",
    "    solutions = {} # a dictionary whose key is the index of the equation in `equations` array\n",
    "                   # and value is a list of solutions for that equation\n",
    "    parse_exceptions = set() # stores indices of the equations that fail parsing\n",
    "\n",
    "    for i, eqn in enumerate(equations):\n",
    "        if eqn is None:\n",
    "            continue\n",
    "\n",
    "        lhs = latex2sympy(eqn[0])\n",
    "        rhs = latex2sympy(eqn[1])\n",
    "        \n",
    "        # Get variables in the expressions\n",
    "        lhs_vars = lhs.free_symbols\n",
    "        rhs_vars = rhs.free_symbols\n",
    "        \n",
    "        if lhs_vars == rhs_vars:\n",
    "            # If variables are the same, check for equality\n",
    "            try:\n",
    "                equality_check = Eq(lhs, rhs)\n",
    "                result = equality_check.simplify()\n",
    "                equalities[i] = result\n",
    "            except:\n",
    "                parse_exceptions.add(i)\n",
    "        else:\n",
    "            # If variables are different, solve the equation\n",
    "            try:\n",
    "                solution = solve(Eq(lhs, rhs))\n",
    "                solutions[i] = solution\n",
    "            except:\n",
    "                parse_exceptions.add(i)\n",
    "\n",
    "    return expressions, equations, equalities, solutions, parse_exceptions\n",
    "\n"
   ]
  },
  {
   "cell_type": "code",
   "execution_count": 173,
   "metadata": {},
   "outputs": [
    {
     "name": "stdout",
     "output_type": "stream",
     "text": [
      "[['x^2+x-6', '(x-2)(x+3)'], None, ['x', '2'], ['x', '-3'], None]\n"
     ]
    }
   ],
   "source": [
    "expressions, equations, equalities, solutions, parse_exceptions = get_equations(df_int.loc[0, 'solution'])"
   ]
  },
  {
   "cell_type": "code",
   "execution_count": 174,
   "metadata": {},
   "outputs": [
    {
     "name": "stdout",
     "output_type": "stream",
     "text": [
      "{0: True}\n"
     ]
    }
   ],
   "source": [
    "print(equalities)"
   ]
  },
  {
   "cell_type": "code",
   "execution_count": 93,
   "metadata": {},
   "outputs": [
    {
     "name": "stdout",
     "output_type": "stream",
     "text": [
      "expression x = 2: [2]\n",
      "expression x = -3: [-3]\n"
     ]
    }
   ],
   "source": [
    "for key, val in solutions.items():\n",
    "    print(f\"expression {expressions[key][0]}: {val}\")"
   ]
  },
  {
   "cell_type": "code",
   "execution_count": 95,
   "metadata": {},
   "outputs": [],
   "source": [
    "from openai import OpenAI\n",
    "import openai\n",
    "client = OpenAI()\n",
    "api_key = os.environ.get(\"OPENAI_API_KEY\")\n",
    "if api_key is not None:\n",
    "    openai.api_key = api_key\n",
    "else:\n",
    "    raise Exception(\"openai api key not set\")"
   ]
  },
  {
   "cell_type": "markdown",
   "metadata": {},
   "source": [
    "Detecting equations:"
   ]
  },
  {
   "cell_type": "code",
   "execution_count": 96,
   "metadata": {},
   "outputs": [],
   "source": [
    "python_caller_prompt = '''\n",
    "    You are given a paragraph written in English that explains how to solve a math problem. Many sentences will include\n",
    "    math equations. Please detect which sentences are math equations and wrap them within the tags <equation> and </equation>\n",
    "'''\n",
    "\n",
    "\n",
    "\n",
    "response = client.chat.completions.create(\n",
    "    model=\"gpt-3.5-turbo\",\n",
    "    messages=[\n",
    "        {\"role\": \"system\", \"content\": python_caller_prompt},\n",
    "\n",
    "    ]\n",
    ")\n",
    "    "
   ]
  },
  {
   "cell_type": "markdown",
   "metadata": {},
   "source": [
    "Converting equations to python code for verification:"
   ]
  },
  {
   "cell_type": "code",
   "execution_count": null,
   "metadata": {},
   "outputs": [],
   "source": [
    "python_caller_prompt = '''\n",
    "    You are given a math equation written in latex. Convert it into Python and verify its correctness.\n",
    "'''\n",
    "\"$x^2+x-6=(x-2)(x+3)$\"\n",
    "\n",
    "\n",
    "{\n",
    "    \"symbols\": \"x\",\n",
    "    \"LHS\": \"x**2 + x - 6\",\n",
    "    \"RHS\": \"(x - 2) * (x + 3)\"    \n",
    "}\n",
    "\n",
    "\"$120\\\\cdot30\\\\cdot\\\\frac{1}{100}=36$\"\n",
    "{\n",
    "    \"symbols\": \"\",\n",
    "    \"LHS\": \"120*30\\\\cdot\\\\frac{1}{100}\",\n",
    "    \"RHS\": \n",
    "}\n",
    "\n",
    "\n",
    "response = client.chat.completions.create(\n",
    "    model=\"gpt-3.5-turbo\",\n",
    "    messages=[\n",
    "        {\"role\": \"system\", \"content\": python_caller_prompt},\n",
    "\n",
    "    ]\n",
    ")"
   ]
  },
  {
   "cell_type": "markdown",
   "metadata": {},
   "source": [
    "## Testing gpt response with vs without appending hints:"
   ]
  },
  {
   "cell_type": "code",
   "execution_count": 97,
   "metadata": {},
   "outputs": [],
   "source": [
    "ai_prompt = \"You are an assistant that is very good at mathematics. Given a mathematics problem, determine the answer, which is an integer, a float, or a fraction. Put your answer in the box \\\\boxed{}\"\n",
    "\n",
    "\n",
    "def ai_response(question: str):\n",
    "\n",
    "    response = client.chat.completions.create(\n",
    "                model=\"gpt-3.5-turbo\",\n",
    "                messages=[\n",
    "                    {\"role\": \"system\", \"content\": ai_prompt},\n",
    "                    {\"role\": \"user\", \"content\": \"What is $(\\\\frac{7}{8})^3 \\\\cdot (\\\\frac{7}{8})^{-3}$?\"},\n",
    "                    {\"role\": \"assistant\", \"content\": \"$\\\\boxed{1}$.\"},\n",
    "                    {\"role\": \"user\", \"content\": \"In how many ways can 4 books be selected from a shelf of 6 books if the order in which the books are selected does not matter?\"},\n",
    "                    {\"role\": \"assistant\", \"content\": \"$\\\\boxed{15}$.\"},\n",
    "                    {\"role\": \"user\", \"content\": \"Find the distance between the points $(2,1,-4)$ and $(5,8,-3).$\"},\n",
    "                    {\"role\": \"assistant\", \"content\": \"$\\\\boxed{\\\\sqrt{59}}$.\"},\n",
    "                    {\"role\": \"user\", \"content\": \"The faces of an octahedral die are labeled with digits $1$ through $8$. What is the probability, expressed as a common fraction, of rolling a sum of $15$ with a pair of such octahedral dice?\"},\n",
    "                    {\"role\": \"assistant\", \"content\": \"$\\\\boxed{\\\\frac{1}{32}}$.\"},\n",
    "                    {\"role\": \"user\", \"content\": \"The first three terms of an arithmetic sequence are 1, 10 and 19, respectively. What is the value of the 21st term?\"},\n",
    "                    {\"role\": \"assistant\", \"content\": \"$\\\\boxed{181}$.\"},\n",
    "                    {\"role\": \"user\", \"content\": \"Calculate $6 \\\\cdot 8\\\\frac{1}{3}$.\"},\n",
    "                    {\"role\": \"assistant\", \"content\": \"$\\\\boxed{50}$.\"},\n",
    "                    {\"role\": \"user\", \"content\": \"When the binary number $100101110010_2$ is divided by 4, what is the remainder (give your answer in base 10)?\"},\n",
    "                    {\"role\": \"assistant\", \"content\": \"$\\\\boxed{2}$.\"},\n",
    "                    {\"role\": \"user\", \"content\": \"How many zeros are at the end of the product 25 $\\\\times$ 240?\"},\n",
    "                    {\"role\": \"assistant\", \"content\": \"$\\\\boxed{3}$.\"},\n",
    "                    {\"role\": \"user\", \"content\": question}\n",
    "                ]\n",
    "            )\n",
    "    return response.choices[0].message.content\n",
    "\n"
   ]
  },
  {
   "cell_type": "code",
   "execution_count": 98,
   "metadata": {},
   "outputs": [],
   "source": [
    "ans = ai_response(\"What is the value of $x$ which satisfies $\\sqrt[3]{x\\sqrt{x}}=7$?\")"
   ]
  },
  {
   "cell_type": "code",
   "execution_count": 99,
   "metadata": {},
   "outputs": [
    {
     "data": {
      "text/plain": [
       "'To solve this equation, we first cube both sides to get rid of the cube root.\\n\\\\begin{align*}\\n\\\\sqrt[3]{x\\\\sqrt{x}} &= 7 \\\\\\\\\\n(\\\\sqrt[3]{x\\\\sqrt{x}})^3 &= 7^3 \\\\\\\\\\nx\\\\sqrt{x} &= 343\\n\\\\end{align*}Next, we square both sides.\\n\\\\begin{align*}\\n(x\\\\sqrt{x})^2 &= 343^2 \\\\\\\\\\nx^2 \\\\cdot x &= 117649 \\\\\\\\\\nx^3 &= 117649 \\\\\\\\\\nx &= \\\\sqrt[3]{117649} \\\\\\\\\\nx &= \\\\boxed{49}\\n\\\\end{align*}'"
      ]
     },
     "execution_count": 99,
     "metadata": {},
     "output_type": "execute_result"
    }
   ],
   "source": [
    "ans"
   ]
  },
  {
   "cell_type": "code",
   "execution_count": 108,
   "metadata": {},
   "outputs": [],
   "source": [
    "question = \"What is the value of $x$ which satisfies $\\sqrt[3]{x\\sqrt{x}}=7$?\"\n",
    "question_hinted = question + \"\\nYou MUST use the following facts: the solution to the equation $\\sqrt[3]{x\\sqrt{x}}=7$ is $x=49$\"\n",
    "ans1 = ai_response(question_hinted)"
   ]
  },
  {
   "cell_type": "code",
   "execution_count": 109,
   "metadata": {},
   "outputs": [
    {
     "data": {
      "text/plain": [
       "'Given that $\\\\sqrt[3]{x\\\\sqrt{x}}=7$ and the solution is $x=49$, we have $\\\\boxed{x=49}$.'"
      ]
     },
     "execution_count": 109,
     "metadata": {},
     "output_type": "execute_result"
    }
   ],
   "source": [
    "ans1 # good!"
   ]
  },
  {
   "cell_type": "markdown",
   "metadata": {},
   "source": [
    "## -----------------------------------------\n",
    "### Use sympy to solve equations that appear in the question or gpt's first generated answer and append them as hints to the gpt"
   ]
  },
  {
   "cell_type": "code",
   "execution_count": 161,
   "metadata": {},
   "outputs": [
    {
     "name": "stdout",
     "output_type": "stream",
     "text": [
      "\n"
     ]
    }
   ],
   "source": [
    "problem = df_int.iloc[2, :]['problem']\n",
    "expressions, equations, equalities, solutions, parse_exceptions = get_equations(problem)\n",
    "\n",
    "hint_title = \"You MUST consider the following facts, which will help you solve the question a lot:\\n\"\n",
    "hint = \"\"\n",
    "for idx, sol_list in solutions.items():\n",
    "    # this contest only has integer solutions\n",
    "    # so filter out non-integer solutions, like complex numbers\n",
    "    sol_cleaned = []\n",
    "    for sol in sol_list:\n",
    "        try:\n",
    "            sol_int = int(sol)\n",
    "            sol_cleaned.append(str(sol_int))\n",
    "        except:\n",
    "            pass\n",
    "    \n",
    "    s = '' if len(sol_cleaned) == 1 else 's'\n",
    "\n",
    "    hint += f\"The equation {expressions[idx][0]} has solution{s} {', '.join(sol_cleaned)}\\n\"\n",
    "\n",
    "if len(hint) > 0:\n",
    "    hint = hint_title + hint\n",
    "\n",
    "print(hint)"
   ]
  },
  {
   "cell_type": "code",
   "execution_count": 122,
   "metadata": {},
   "outputs": [
    {
     "data": {
      "text/plain": [
       "[['2^8=4^x', 3, 12], ['x', 35, 38]]"
      ]
     },
     "execution_count": 122,
     "metadata": {},
     "output_type": "execute_result"
    }
   ],
   "source": [
    "expressions"
   ]
  },
  {
   "cell_type": "code",
   "execution_count": 123,
   "metadata": {},
   "outputs": [
    {
     "data": {
      "text/plain": [
       "[['2^8', '4^x'], None]"
      ]
     },
     "execution_count": 123,
     "metadata": {},
     "output_type": "execute_result"
    }
   ],
   "source": [
    "equations"
   ]
  },
  {
   "cell_type": "code",
   "execution_count": 120,
   "metadata": {},
   "outputs": [
    {
     "data": {
      "text/plain": [
       "{0: [4, (log(16) + I*pi)/log(2)]}"
      ]
     },
     "execution_count": 120,
     "metadata": {},
     "output_type": "execute_result"
    }
   ],
   "source": [
    "solutions"
   ]
  },
  {
   "cell_type": "markdown",
   "metadata": {},
   "source": [
    "### Test on gpt3 output answers"
   ]
  },
  {
   "cell_type": "code",
   "execution_count": 182,
   "metadata": {},
   "outputs": [
    {
     "ename": "ImportError",
     "evalue": "cannot import name 'get_equations' from 'models.gpt3' (c:\\Users\\a0306\\ai-math\\models\\gpt3.py)",
     "output_type": "error",
     "traceback": [
      "\u001b[1;31m---------------------------------------------------------------------------\u001b[0m",
      "\u001b[1;31mImportError\u001b[0m                               Traceback (most recent call last)",
      "Cell \u001b[1;32mIn[182], line 1\u001b[0m\n\u001b[1;32m----> 1\u001b[0m \u001b[38;5;28;01mfrom\u001b[39;00m \u001b[38;5;21;01mmodels\u001b[39;00m\u001b[38;5;21;01m.\u001b[39;00m\u001b[38;5;21;01mgpt3\u001b[39;00m \u001b[38;5;28;01mimport\u001b[39;00m get_equations, get_hint\n\u001b[0;32m      4\u001b[0m gpt_outputs \u001b[38;5;241m=\u001b[39m pd\u001b[38;5;241m.\u001b[39mread_csv(\u001b[38;5;124m\"\u001b[39m\u001b[38;5;124mgpt3_predictions.csv\u001b[39m\u001b[38;5;124m\"\u001b[39m)\n",
      "\u001b[1;31mImportError\u001b[0m: cannot import name 'get_equations' from 'models.gpt3' (c:\\Users\\a0306\\ai-math\\models\\gpt3.py)"
     ]
    }
   ],
   "source": [
    "from models.gpt3 import get_equations, get_hint\n",
    "\n",
    "\n",
    "gpt_outputs = pd.read_csv(\"gpt3_predictions.csv\")"
   ]
  },
  {
   "cell_type": "code",
   "execution_count": 149,
   "metadata": {},
   "outputs": [
    {
     "data": {
      "text/plain": [
       "'The prime numbers with squares between 100 and 300 are 11, 13, 17, and 19. \\n\\nTherefore, there are $\\\\boxed{4}$ prime numbers with squares between 100 and 300.'"
      ]
     },
     "execution_count": 149,
     "metadata": {},
     "output_type": "execute_result"
    }
   ],
   "source": [
    "gpt_outputs.loc[3, 'problem'] # This is so wrong..."
   ]
  },
  {
   "cell_type": "code",
   "execution_count": 151,
   "metadata": {},
   "outputs": [
    {
     "data": {
      "text/plain": [
       "\"The greatest perimeter of the triangle occurs when the two shorter sides are the base of the triangle and the longest side is the height (forming a right-angled triangle with the altitude to the base). Using Pythagoras' theorem, the length of the longest side is $\\\\sqrt{15^2 - \\\\left(\\\\frac{10}{2}\\\\right)^2} = \\\\sqrt{225 - 25} = \\\\sqrt{200} = 10\\\\sqrt{2}$. \\n\\nTherefore, the greatest possible perimeter of the isosceles triangle is $2 \\\\times 15 + 10\\\\sqrt{2}$. Simplifying, we get $30 + 10\\\\sqrt{2} \\\\approx 44.14$.\\n\\nTherefore, the greatest possible perimeter of this isosceles triangle is $\\\\boxed{44.14}$ cm.\""
      ]
     },
     "execution_count": 151,
     "metadata": {},
     "output_type": "execute_result"
    }
   ],
   "source": [
    "gpt_outputs.loc[5, 'problem']"
   ]
  },
  {
   "cell_type": "code",
   "execution_count": 177,
   "metadata": {},
   "outputs": [
    {
     "name": "stdout",
     "output_type": "stream",
     "text": [
      "['\\\\sqrt{15^2 - \\\\left(\\\\frac{10}{2}\\\\right)^2} = \\\\sqrt{225 - 25} = \\\\sqrt{200} = 10\\\\sqrt{2}', 263, 350]\n",
      "['2 \\\\times 15 + 10\\\\sqrt{2}', 426, 452]\n",
      "['30 + 10\\\\sqrt{2} \\\\approx 44.14', 474, 505]\n",
      "['\\\\boxed{44.14}', 581, 596]\n"
     ]
    }
   ],
   "source": [
    "output = gpt_outputs.loc[5, 'problem']\n",
    "expressions, equations, equalities, solutions, parse_exceptions = get_equations(output)\n",
    "for expr in expressions:\n",
    "    print(expr)"
   ]
  },
  {
   "cell_type": "code",
   "execution_count": 155,
   "metadata": {},
   "outputs": [
    {
     "ename": "TypeError",
     "evalue": "unsupported operand type(s) for -: 'Equality' and 'Pow'",
     "output_type": "error",
     "traceback": [
      "\u001b[1;31m---------------------------------------------------------------------------\u001b[0m",
      "\u001b[1;31mTypeError\u001b[0m                                 Traceback (most recent call last)",
      "Cell \u001b[1;32mIn[155], line 2\u001b[0m\n\u001b[0;32m      1\u001b[0m \u001b[38;5;28;01mfrom\u001b[39;00m \u001b[38;5;21;01mlatex2sympy2\u001b[39;00m \u001b[38;5;28;01mimport\u001b[39;00m latex2sympy\n\u001b[1;32m----> 2\u001b[0m \u001b[43mlatex2sympy\u001b[49m\u001b[43m(\u001b[49m\u001b[38;5;124;43m\"\u001b[39;49m\u001b[38;5;130;43;01m\\\\\u001b[39;49;00m\u001b[38;5;124;43msqrt\u001b[39;49m\u001b[38;5;124;43m{\u001b[39;49m\u001b[38;5;124;43m15^2 - \u001b[39;49m\u001b[38;5;130;43;01m\\\\\u001b[39;49;00m\u001b[38;5;124;43mleft(\u001b[39;49m\u001b[38;5;130;43;01m\\\\\u001b[39;49;00m\u001b[38;5;124;43mfrac\u001b[39;49m\u001b[38;5;132;43;01m{10}\u001b[39;49;00m\u001b[38;5;132;43;01m{2}\u001b[39;49;00m\u001b[38;5;130;43;01m\\\\\u001b[39;49;00m\u001b[38;5;124;43mright)^2} = \u001b[39;49m\u001b[38;5;130;43;01m\\\\\u001b[39;49;00m\u001b[38;5;124;43msqrt\u001b[39;49m\u001b[38;5;124;43m{\u001b[39;49m\u001b[38;5;124;43m225 - 25} = \u001b[39;49m\u001b[38;5;130;43;01m\\\\\u001b[39;49;00m\u001b[38;5;124;43msqrt\u001b[39;49m\u001b[38;5;132;43;01m{200}\u001b[39;49;00m\u001b[38;5;124;43m\"\u001b[39;49m\u001b[43m)\u001b[49m\n",
      "File \u001b[1;32mc:\\Users\\a0306\\anaconda3\\envs\\2023\\Lib\\site-packages\\latex2sympy2.py:112\u001b[0m, in \u001b[0;36mlatex2sympy\u001b[1;34m(sympy, variable_values)\u001b[0m\n\u001b[0;32m    109\u001b[0m \u001b[38;5;66;03m# if not, do default\u001b[39;00m\n\u001b[0;32m    110\u001b[0m \u001b[38;5;28;01melse\u001b[39;00m:\n\u001b[0;32m    111\u001b[0m     relation \u001b[38;5;241m=\u001b[39m math\u001b[38;5;241m.\u001b[39mrelation()\n\u001b[1;32m--> 112\u001b[0m     return_data \u001b[38;5;241m=\u001b[39m \u001b[43mconvert_relation\u001b[49m\u001b[43m(\u001b[49m\u001b[43mrelation\u001b[49m\u001b[43m)\u001b[49m\n\u001b[0;32m    114\u001b[0m \u001b[38;5;28;01mreturn\u001b[39;00m return_data\n",
      "File \u001b[1;32mc:\\Users\\a0306\\anaconda3\\envs\\2023\\Lib\\site-packages\\latex2sympy2.py:169\u001b[0m, in \u001b[0;36mconvert_relation\u001b[1;34m(rel)\u001b[0m\n\u001b[0;32m    166\u001b[0m     \u001b[38;5;28;01mreturn\u001b[39;00m rh\n\u001b[0;32m    167\u001b[0m \u001b[38;5;28;01melse\u001b[39;00m:\n\u001b[0;32m    168\u001b[0m     \u001b[38;5;66;03m# find the symbols in lh - rh\u001b[39;00m\n\u001b[1;32m--> 169\u001b[0m     equation \u001b[38;5;241m=\u001b[39m \u001b[43mlh\u001b[49m\u001b[43m \u001b[49m\u001b[38;5;241;43m-\u001b[39;49m\u001b[43m \u001b[49m\u001b[43mrh\u001b[49m\n\u001b[0;32m    170\u001b[0m     syms \u001b[38;5;241m=\u001b[39m equation\u001b[38;5;241m.\u001b[39matoms(sympy\u001b[38;5;241m.\u001b[39mSymbol)\n\u001b[0;32m    171\u001b[0m     \u001b[38;5;28;01mif\u001b[39;00m \u001b[38;5;28mlen\u001b[39m(syms) \u001b[38;5;241m>\u001b[39m \u001b[38;5;241m0\u001b[39m:\n\u001b[0;32m    172\u001b[0m         \u001b[38;5;66;03m# Solve equation\u001b[39;00m\n",
      "\u001b[1;31mTypeError\u001b[0m: unsupported operand type(s) for -: 'Equality' and 'Pow'"
     ]
    }
   ],
   "source": [
    "from latex2sympy2 import latex2sympy\n",
    "latex2sympy(\"\\\\sqrt{15^2 - \\\\left(\\\\frac{10}{2}\\\\right)^2} = \\\\sqrt{225 - 25} = \\\\sqrt{200}\")\n",
    "# latex2sympy does not support chained equalities"
   ]
  },
  {
   "cell_type": "code",
   "execution_count": 157,
   "metadata": {},
   "outputs": [
    {
     "data": {
      "text/latex": [
       "$\\displaystyle 10 \\sqrt{2}$"
      ],
      "text/plain": [
       "10*sqrt(2)"
      ]
     },
     "execution_count": 157,
     "metadata": {},
     "output_type": "execute_result"
    }
   ],
   "source": [
    "simplify(latex2sympy(\"\\\\sqrt{15^2 - \\\\left(\\\\frac{10}{2}\\\\right)^2}\"))"
   ]
  },
  {
   "cell_type": "code",
   "execution_count": 143,
   "metadata": {},
   "outputs": [
    {
     "data": {
      "text/plain": [
       "True"
      ]
     },
     "execution_count": 143,
     "metadata": {},
     "output_type": "execute_result"
    }
   ],
   "source": [
    "from latex2sympy2 import latex2sympy\n",
    "expr = latex2sympy(\"120*30\\\\cdot\\\\frac{1}{100}\")\n",
    "simplify(expr) == 36"
   ]
  },
  {
   "cell_type": "code",
   "execution_count": 49,
   "metadata": {},
   "outputs": [
    {
     "name": "stdout",
     "output_type": "stream",
     "text": [
      "Requirement already satisfied: sympy in c:\\users\\a0306\\anaconda3\\envs\\2023\\lib\\site-packages (1.12)\n",
      "Requirement already satisfied: mpmath>=0.19 in c:\\users\\a0306\\anaconda3\\envs\\2023\\lib\\site-packages (from sympy) (1.3.0)\n",
      "Collecting latex2sympy2\n",
      "  Downloading latex2sympy2-1.9.1-py3-none-any.whl (89 kB)\n",
      "                                              0.0/89.8 kB ? eta -:--:--\n",
      "     ----                                     10.2/89.8 kB ? eta -:--:--\n",
      "     ---------------------------------------- 89.8/89.8 kB 1.0 MB/s eta 0:00:00\n",
      "Requirement already satisfied: sympy>=1.4 in c:\\users\\a0306\\anaconda3\\envs\\2023\\lib\\site-packages (from latex2sympy2) (1.12)\n",
      "Collecting antlr4-python3-runtime==4.7.2 (from latex2sympy2)\n",
      "  Downloading antlr4-python3-runtime-4.7.2.tar.gz (112 kB)\n",
      "                                              0.0/112.3 kB ? eta -:--:--\n",
      "     -------------------------------------- 112.3/112.3 kB 3.2 MB/s eta 0:00:00\n",
      "  Preparing metadata (setup.py): started\n",
      "  Preparing metadata (setup.py): finished with status 'done'\n",
      "Requirement already satisfied: mpmath>=0.19 in c:\\users\\a0306\\anaconda3\\envs\\2023\\lib\\site-packages (from sympy>=1.4->latex2sympy2) (1.3.0)\n",
      "Building wheels for collected packages: antlr4-python3-runtime\n",
      "  Building wheel for antlr4-python3-runtime (setup.py): started\n",
      "  Building wheel for antlr4-python3-runtime (setup.py): finished with status 'done'\n",
      "  Created wheel for antlr4-python3-runtime: filename=antlr4_python3_runtime-4.7.2-py3-none-any.whl size=140940 sha256=4ce23cfe94fa4b3b9dac9f3acf783f093e5e64454e173510ec22a28c8e849089\n",
      "  Stored in directory: c:\\users\\a0306\\appdata\\local\\pip\\cache\\wheels\\c4\\f4\\c7\\71f768e561b9cc8bce3160d1229728d0d77fd5fd6d4f5d960b\n",
      "Successfully built antlr4-python3-runtime\n",
      "Installing collected packages: antlr4-python3-runtime, latex2sympy2\n",
      "Successfully installed antlr4-python3-runtime-4.7.2 latex2sympy2-1.9.1\n"
     ]
    }
   ],
   "source": [
    "!pip install sympy\n",
    "!pip install latex2sympy2"
   ]
  },
  {
   "cell_type": "code",
   "execution_count": 48,
   "metadata": {},
   "outputs": [
    {
     "data": {
      "text/plain": [
       "True"
      ]
     },
     "execution_count": 48,
     "metadata": {},
     "output_type": "execute_result"
    }
   ],
   "source": [
    "from sympy import symbols, Eq, solve, simplify\n",
    "\n",
    "# Define the variable\n",
    "x = symbols('x')\n",
    "\n",
    "lhs = x**2 + x - 6\n",
    "rhs = (x - 2) * (x + 3)\n",
    "simplify(lhs-rhs) == 0"
   ]
  },
  {
   "cell_type": "code",
   "execution_count": 65,
   "metadata": {},
   "outputs": [
    {
     "data": {
      "text/plain": [
       "[Eq(x, 49)]"
      ]
     },
     "execution_count": 65,
     "metadata": {},
     "output_type": "execute_result"
    }
   ],
   "source": [
    "latex2sympy(\"\\sqrt[3]{x\\sqrt{x}}=7\")"
   ]
  },
  {
   "cell_type": "code",
   "execution_count": 72,
   "metadata": {},
   "outputs": [],
   "source": [
    "lhs = latex2sympy('x^2 + x - 6')"
   ]
  },
  {
   "cell_type": "markdown",
   "metadata": {},
   "source": [
    "# -----------------------------------"
   ]
  },
  {
   "cell_type": "code",
   "execution_count": 7,
   "metadata": {},
   "outputs": [],
   "source": [
    "group_sample_size = 2\n",
    "df_int_gp = df_int.groupby(['level', 'type'])\n",
    "min_group_size = df_int_gp.apply(lambda group: len(group.index)).min()\n",
    "if group_sample_size > min_group_size:\n",
    "    raise Exception(\"group sample size is larger than the size of a group\")\n",
    "df1 = df_int_gp.apply(lambda group: group.sample(group_sample_size, replace=False))"
   ]
  },
  {
   "cell_type": "code",
   "execution_count": 16,
   "metadata": {},
   "outputs": [
    {
     "ename": "ValueError",
     "evalue": "If using all scalar values, you must pass an index",
     "output_type": "error",
     "traceback": [
      "\u001b[1;31m---------------------------------------------------------------------------\u001b[0m",
      "\u001b[1;31mValueError\u001b[0m                                Traceback (most recent call last)",
      "Cell \u001b[1;32mIn[16], line 1\u001b[0m\n\u001b[1;32m----> 1\u001b[0m df2 \u001b[38;5;241m=\u001b[39m \u001b[43mdf1\u001b[49m\u001b[38;5;241;43m.\u001b[39;49m\u001b[43mapply\u001b[49m\u001b[43m(\u001b[49m\u001b[38;5;28;43;01mlambda\u001b[39;49;00m\u001b[43m \u001b[49m\u001b[43mgroup\u001b[49m\u001b[43m:\u001b[49m\u001b[43m \u001b[49m\u001b[43mpd\u001b[49m\u001b[38;5;241;43m.\u001b[39;49m\u001b[43mconcat\u001b[49m\u001b[43m(\u001b[49m\u001b[43m[\u001b[49m\u001b[43mgroup\u001b[49m\u001b[43m,\u001b[49m\u001b[43m \u001b[49m\u001b[43mdf1\u001b[49m\u001b[43m[\u001b[49m\u001b[38;5;124;43m'\u001b[39;49m\u001b[38;5;124;43mid\u001b[39;49m\u001b[38;5;124;43m'\u001b[39;49m\u001b[43m]\u001b[49m\u001b[43m \u001b[49m\u001b[38;5;241;43m*\u001b[39;49m\u001b[43m \u001b[49m\u001b[38;5;241;43m10\u001b[39;49m\u001b[43m]\u001b[49m\u001b[43m,\u001b[49m\u001b[43m \u001b[49m\u001b[43maxis\u001b[49m\u001b[38;5;241;43m=\u001b[39;49m\u001b[38;5;241;43m1\u001b[39;49m\u001b[43m)\u001b[49m\u001b[43m)\u001b[49m\n",
      "File \u001b[1;32mc:\\Users\\a0306\\anaconda3\\envs\\2023\\Lib\\site-packages\\pandas\\core\\frame.py:9423\u001b[0m, in \u001b[0;36mDataFrame.apply\u001b[1;34m(self, func, axis, raw, result_type, args, **kwargs)\u001b[0m\n\u001b[0;32m   9412\u001b[0m \u001b[38;5;28;01mfrom\u001b[39;00m \u001b[38;5;21;01mpandas\u001b[39;00m\u001b[38;5;21;01m.\u001b[39;00m\u001b[38;5;21;01mcore\u001b[39;00m\u001b[38;5;21;01m.\u001b[39;00m\u001b[38;5;21;01mapply\u001b[39;00m \u001b[38;5;28;01mimport\u001b[39;00m frame_apply\n\u001b[0;32m   9414\u001b[0m op \u001b[38;5;241m=\u001b[39m frame_apply(\n\u001b[0;32m   9415\u001b[0m     \u001b[38;5;28mself\u001b[39m,\n\u001b[0;32m   9416\u001b[0m     func\u001b[38;5;241m=\u001b[39mfunc,\n\u001b[1;32m   (...)\u001b[0m\n\u001b[0;32m   9421\u001b[0m     kwargs\u001b[38;5;241m=\u001b[39mkwargs,\n\u001b[0;32m   9422\u001b[0m )\n\u001b[1;32m-> 9423\u001b[0m \u001b[38;5;28;01mreturn\u001b[39;00m \u001b[43mop\u001b[49m\u001b[38;5;241;43m.\u001b[39;49m\u001b[43mapply\u001b[49m\u001b[43m(\u001b[49m\u001b[43m)\u001b[49m\u001b[38;5;241m.\u001b[39m__finalize__(\u001b[38;5;28mself\u001b[39m, method\u001b[38;5;241m=\u001b[39m\u001b[38;5;124m\"\u001b[39m\u001b[38;5;124mapply\u001b[39m\u001b[38;5;124m\"\u001b[39m)\n",
      "File \u001b[1;32mc:\\Users\\a0306\\anaconda3\\envs\\2023\\Lib\\site-packages\\pandas\\core\\apply.py:678\u001b[0m, in \u001b[0;36mFrameApply.apply\u001b[1;34m(self)\u001b[0m\n\u001b[0;32m    675\u001b[0m \u001b[38;5;28;01melif\u001b[39;00m \u001b[38;5;28mself\u001b[39m\u001b[38;5;241m.\u001b[39mraw:\n\u001b[0;32m    676\u001b[0m     \u001b[38;5;28;01mreturn\u001b[39;00m \u001b[38;5;28mself\u001b[39m\u001b[38;5;241m.\u001b[39mapply_raw()\n\u001b[1;32m--> 678\u001b[0m \u001b[38;5;28;01mreturn\u001b[39;00m \u001b[38;5;28;43mself\u001b[39;49m\u001b[38;5;241;43m.\u001b[39;49m\u001b[43mapply_standard\u001b[49m\u001b[43m(\u001b[49m\u001b[43m)\u001b[49m\n",
      "File \u001b[1;32mc:\\Users\\a0306\\anaconda3\\envs\\2023\\Lib\\site-packages\\pandas\\core\\apply.py:801\u001b[0m, in \u001b[0;36mFrameApply.apply_standard\u001b[1;34m(self)\u001b[0m\n\u001b[0;32m    798\u001b[0m results, res_index \u001b[38;5;241m=\u001b[39m \u001b[38;5;28mself\u001b[39m\u001b[38;5;241m.\u001b[39mapply_series_generator()\n\u001b[0;32m    800\u001b[0m \u001b[38;5;66;03m# wrap results\u001b[39;00m\n\u001b[1;32m--> 801\u001b[0m \u001b[38;5;28;01mreturn\u001b[39;00m \u001b[38;5;28;43mself\u001b[39;49m\u001b[38;5;241;43m.\u001b[39;49m\u001b[43mwrap_results\u001b[49m\u001b[43m(\u001b[49m\u001b[43mresults\u001b[49m\u001b[43m,\u001b[49m\u001b[43m \u001b[49m\u001b[43mres_index\u001b[49m\u001b[43m)\u001b[49m\n",
      "File \u001b[1;32mc:\\Users\\a0306\\anaconda3\\envs\\2023\\Lib\\site-packages\\pandas\\core\\apply.py:827\u001b[0m, in \u001b[0;36mFrameApply.wrap_results\u001b[1;34m(self, results, res_index)\u001b[0m\n\u001b[0;32m    825\u001b[0m \u001b[38;5;66;03m# see if we can infer the results\u001b[39;00m\n\u001b[0;32m    826\u001b[0m \u001b[38;5;28;01mif\u001b[39;00m \u001b[38;5;28mlen\u001b[39m(results) \u001b[38;5;241m>\u001b[39m \u001b[38;5;241m0\u001b[39m \u001b[38;5;129;01mand\u001b[39;00m \u001b[38;5;241m0\u001b[39m \u001b[38;5;129;01min\u001b[39;00m results \u001b[38;5;129;01mand\u001b[39;00m is_sequence(results[\u001b[38;5;241m0\u001b[39m]):\n\u001b[1;32m--> 827\u001b[0m     \u001b[38;5;28;01mreturn\u001b[39;00m \u001b[38;5;28;43mself\u001b[39;49m\u001b[38;5;241;43m.\u001b[39;49m\u001b[43mwrap_results_for_axis\u001b[49m\u001b[43m(\u001b[49m\u001b[43mresults\u001b[49m\u001b[43m,\u001b[49m\u001b[43m \u001b[49m\u001b[43mres_index\u001b[49m\u001b[43m)\u001b[49m\n\u001b[0;32m    829\u001b[0m \u001b[38;5;66;03m# dict of scalars\u001b[39;00m\n\u001b[0;32m    830\u001b[0m \n\u001b[0;32m    831\u001b[0m \u001b[38;5;66;03m# the default dtype of an empty Series is `object`, but this\u001b[39;00m\n\u001b[0;32m    832\u001b[0m \u001b[38;5;66;03m# code can be hit by df.mean() where the result should have dtype\u001b[39;00m\n\u001b[0;32m    833\u001b[0m \u001b[38;5;66;03m# float64 even if it's an empty Series.\u001b[39;00m\n\u001b[0;32m    834\u001b[0m constructor_sliced \u001b[38;5;241m=\u001b[39m \u001b[38;5;28mself\u001b[39m\u001b[38;5;241m.\u001b[39mobj\u001b[38;5;241m.\u001b[39m_constructor_sliced\n",
      "File \u001b[1;32mc:\\Users\\a0306\\anaconda3\\envs\\2023\\Lib\\site-packages\\pandas\\core\\apply.py:890\u001b[0m, in \u001b[0;36mFrameRowApply.wrap_results_for_axis\u001b[1;34m(self, results, res_index)\u001b[0m\n\u001b[0;32m    887\u001b[0m     \u001b[38;5;28;01mreturn\u001b[39;00m res\n\u001b[0;32m    889\u001b[0m \u001b[38;5;28;01mtry\u001b[39;00m:\n\u001b[1;32m--> 890\u001b[0m     result \u001b[38;5;241m=\u001b[39m \u001b[38;5;28;43mself\u001b[39;49m\u001b[38;5;241;43m.\u001b[39;49m\u001b[43mobj\u001b[49m\u001b[38;5;241;43m.\u001b[39;49m\u001b[43m_constructor\u001b[49m\u001b[43m(\u001b[49m\u001b[43mdata\u001b[49m\u001b[38;5;241;43m=\u001b[39;49m\u001b[43mresults\u001b[49m\u001b[43m)\u001b[49m\n\u001b[0;32m    891\u001b[0m \u001b[38;5;28;01mexcept\u001b[39;00m \u001b[38;5;167;01mValueError\u001b[39;00m \u001b[38;5;28;01mas\u001b[39;00m err:\n\u001b[0;32m    892\u001b[0m     \u001b[38;5;28;01mif\u001b[39;00m \u001b[38;5;124m\"\u001b[39m\u001b[38;5;124mAll arrays must be of the same length\u001b[39m\u001b[38;5;124m\"\u001b[39m \u001b[38;5;129;01min\u001b[39;00m \u001b[38;5;28mstr\u001b[39m(err):\n\u001b[0;32m    893\u001b[0m         \u001b[38;5;66;03m# e.g. result = [[2, 3], [1.5], ['foo', 'bar']]\u001b[39;00m\n\u001b[0;32m    894\u001b[0m         \u001b[38;5;66;03m#  see test_agg_listlike_result GH#29587\u001b[39;00m\n",
      "File \u001b[1;32mc:\\Users\\a0306\\anaconda3\\envs\\2023\\Lib\\site-packages\\pandas\\core\\frame.py:709\u001b[0m, in \u001b[0;36mDataFrame.__init__\u001b[1;34m(self, data, index, columns, dtype, copy)\u001b[0m\n\u001b[0;32m    703\u001b[0m     mgr \u001b[38;5;241m=\u001b[39m \u001b[38;5;28mself\u001b[39m\u001b[38;5;241m.\u001b[39m_init_mgr(\n\u001b[0;32m    704\u001b[0m         data, axes\u001b[38;5;241m=\u001b[39m{\u001b[38;5;124m\"\u001b[39m\u001b[38;5;124mindex\u001b[39m\u001b[38;5;124m\"\u001b[39m: index, \u001b[38;5;124m\"\u001b[39m\u001b[38;5;124mcolumns\u001b[39m\u001b[38;5;124m\"\u001b[39m: columns}, dtype\u001b[38;5;241m=\u001b[39mdtype, copy\u001b[38;5;241m=\u001b[39mcopy\n\u001b[0;32m    705\u001b[0m     )\n\u001b[0;32m    707\u001b[0m \u001b[38;5;28;01melif\u001b[39;00m \u001b[38;5;28misinstance\u001b[39m(data, \u001b[38;5;28mdict\u001b[39m):\n\u001b[0;32m    708\u001b[0m     \u001b[38;5;66;03m# GH#38939 de facto copy defaults to False only in non-dict cases\u001b[39;00m\n\u001b[1;32m--> 709\u001b[0m     mgr \u001b[38;5;241m=\u001b[39m \u001b[43mdict_to_mgr\u001b[49m\u001b[43m(\u001b[49m\u001b[43mdata\u001b[49m\u001b[43m,\u001b[49m\u001b[43m \u001b[49m\u001b[43mindex\u001b[49m\u001b[43m,\u001b[49m\u001b[43m \u001b[49m\u001b[43mcolumns\u001b[49m\u001b[43m,\u001b[49m\u001b[43m \u001b[49m\u001b[43mdtype\u001b[49m\u001b[38;5;241;43m=\u001b[39;49m\u001b[43mdtype\u001b[49m\u001b[43m,\u001b[49m\u001b[43m \u001b[49m\u001b[43mcopy\u001b[49m\u001b[38;5;241;43m=\u001b[39;49m\u001b[43mcopy\u001b[49m\u001b[43m,\u001b[49m\u001b[43m \u001b[49m\u001b[43mtyp\u001b[49m\u001b[38;5;241;43m=\u001b[39;49m\u001b[43mmanager\u001b[49m\u001b[43m)\u001b[49m\n\u001b[0;32m    710\u001b[0m \u001b[38;5;28;01melif\u001b[39;00m \u001b[38;5;28misinstance\u001b[39m(data, ma\u001b[38;5;241m.\u001b[39mMaskedArray):\n\u001b[0;32m    711\u001b[0m     \u001b[38;5;28;01mfrom\u001b[39;00m \u001b[38;5;21;01mnumpy\u001b[39;00m\u001b[38;5;21;01m.\u001b[39;00m\u001b[38;5;21;01mma\u001b[39;00m \u001b[38;5;28;01mimport\u001b[39;00m mrecords\n",
      "File \u001b[1;32mc:\\Users\\a0306\\anaconda3\\envs\\2023\\Lib\\site-packages\\pandas\\core\\internals\\construction.py:481\u001b[0m, in \u001b[0;36mdict_to_mgr\u001b[1;34m(data, index, columns, dtype, typ, copy)\u001b[0m\n\u001b[0;32m    477\u001b[0m     \u001b[38;5;28;01melse\u001b[39;00m:\n\u001b[0;32m    478\u001b[0m         \u001b[38;5;66;03m# dtype check to exclude e.g. range objects, scalars\u001b[39;00m\n\u001b[0;32m    479\u001b[0m         arrays \u001b[38;5;241m=\u001b[39m [x\u001b[38;5;241m.\u001b[39mcopy() \u001b[38;5;28;01mif\u001b[39;00m \u001b[38;5;28mhasattr\u001b[39m(x, \u001b[38;5;124m\"\u001b[39m\u001b[38;5;124mdtype\u001b[39m\u001b[38;5;124m\"\u001b[39m) \u001b[38;5;28;01melse\u001b[39;00m x \u001b[38;5;28;01mfor\u001b[39;00m x \u001b[38;5;129;01min\u001b[39;00m arrays]\n\u001b[1;32m--> 481\u001b[0m \u001b[38;5;28;01mreturn\u001b[39;00m \u001b[43marrays_to_mgr\u001b[49m\u001b[43m(\u001b[49m\u001b[43marrays\u001b[49m\u001b[43m,\u001b[49m\u001b[43m \u001b[49m\u001b[43mcolumns\u001b[49m\u001b[43m,\u001b[49m\u001b[43m \u001b[49m\u001b[43mindex\u001b[49m\u001b[43m,\u001b[49m\u001b[43m \u001b[49m\u001b[43mdtype\u001b[49m\u001b[38;5;241;43m=\u001b[39;49m\u001b[43mdtype\u001b[49m\u001b[43m,\u001b[49m\u001b[43m \u001b[49m\u001b[43mtyp\u001b[49m\u001b[38;5;241;43m=\u001b[39;49m\u001b[43mtyp\u001b[49m\u001b[43m,\u001b[49m\u001b[43m \u001b[49m\u001b[43mconsolidate\u001b[49m\u001b[38;5;241;43m=\u001b[39;49m\u001b[43mcopy\u001b[49m\u001b[43m)\u001b[49m\n",
      "File \u001b[1;32mc:\\Users\\a0306\\anaconda3\\envs\\2023\\Lib\\site-packages\\pandas\\core\\internals\\construction.py:115\u001b[0m, in \u001b[0;36marrays_to_mgr\u001b[1;34m(arrays, columns, index, dtype, verify_integrity, typ, consolidate)\u001b[0m\n\u001b[0;32m    112\u001b[0m \u001b[38;5;28;01mif\u001b[39;00m verify_integrity:\n\u001b[0;32m    113\u001b[0m     \u001b[38;5;66;03m# figure out the index, if necessary\u001b[39;00m\n\u001b[0;32m    114\u001b[0m     \u001b[38;5;28;01mif\u001b[39;00m index \u001b[38;5;129;01mis\u001b[39;00m \u001b[38;5;28;01mNone\u001b[39;00m:\n\u001b[1;32m--> 115\u001b[0m         index \u001b[38;5;241m=\u001b[39m \u001b[43m_extract_index\u001b[49m\u001b[43m(\u001b[49m\u001b[43marrays\u001b[49m\u001b[43m)\u001b[49m\n\u001b[0;32m    116\u001b[0m     \u001b[38;5;28;01melse\u001b[39;00m:\n\u001b[0;32m    117\u001b[0m         index \u001b[38;5;241m=\u001b[39m ensure_index(index)\n",
      "File \u001b[1;32mc:\\Users\\a0306\\anaconda3\\envs\\2023\\Lib\\site-packages\\pandas\\core\\internals\\construction.py:645\u001b[0m, in \u001b[0;36m_extract_index\u001b[1;34m(data)\u001b[0m\n\u001b[0;32m    642\u001b[0m         \u001b[38;5;28;01mraise\u001b[39;00m \u001b[38;5;167;01mValueError\u001b[39;00m(\u001b[38;5;124m\"\u001b[39m\u001b[38;5;124mPer-column arrays must each be 1-dimensional\u001b[39m\u001b[38;5;124m\"\u001b[39m)\n\u001b[0;32m    644\u001b[0m \u001b[38;5;28;01mif\u001b[39;00m \u001b[38;5;129;01mnot\u001b[39;00m indexes \u001b[38;5;129;01mand\u001b[39;00m \u001b[38;5;129;01mnot\u001b[39;00m raw_lengths:\n\u001b[1;32m--> 645\u001b[0m     \u001b[38;5;28;01mraise\u001b[39;00m \u001b[38;5;167;01mValueError\u001b[39;00m(\u001b[38;5;124m\"\u001b[39m\u001b[38;5;124mIf using all scalar values, you must pass an index\u001b[39m\u001b[38;5;124m\"\u001b[39m)\n\u001b[0;32m    647\u001b[0m \u001b[38;5;28;01mif\u001b[39;00m have_series:\n\u001b[0;32m    648\u001b[0m     index \u001b[38;5;241m=\u001b[39m union_indexes(indexes)\n",
      "\u001b[1;31mValueError\u001b[0m: If using all scalar values, you must pass an index"
     ]
    }
   ],
   "source": [
    "df2 = df1.apply(lambda group: pd.concat([group, df1['id'] * 10], axis=1))"
   ]
  },
  {
   "cell_type": "code",
   "execution_count": 9,
   "metadata": {},
   "outputs": [],
   "source": [
    "from models.gpt3 import GPT3\n",
    "\n",
    "my_model = GPT3()\n",
    "\n",
    "pred = df1['problem'].apply(my_model._predict)"
   ]
  },
  {
   "cell_type": "code",
   "execution_count": 14,
   "metadata": {},
   "outputs": [],
   "source": [
    "pred.to_csv(\"gpt3_predictions.csv\")"
   ]
  },
  {
   "cell_type": "code",
   "execution_count": 35,
   "metadata": {},
   "outputs": [
    {
     "data": {
      "text/plain": [
       "level    type                        \n",
       "Level 1  Algebra                 1008       4.0\n",
       "                                 497       27.0\n",
       "         Counting & Probability  1552       3.0\n",
       "                                 1418       4.0\n",
       "         Geometry                2008      16.0\n",
       "                                          ...  \n",
       "Level 5  Number Theory           3167       1.0\n",
       "         Prealgebra              3838      36.0\n",
       "                                 4238    1999.0\n",
       "         Precalculus             4642       1.0\n",
       "                                 4880       1.0\n",
       "Name: problem, Length: 70, dtype: float64"
      ]
     },
     "execution_count": 35,
     "metadata": {},
     "output_type": "execute_result"
    }
   ],
   "source": [
    "pred.apply(MATH.extract_answer)"
   ]
  },
  {
   "cell_type": "code",
   "execution_count": 37,
   "metadata": {},
   "outputs": [
    {
     "data": {
      "text/html": [
       "<div>\n",
       "<style scoped>\n",
       "    .dataframe tbody tr th:only-of-type {\n",
       "        vertical-align: middle;\n",
       "    }\n",
       "\n",
       "    .dataframe tbody tr th {\n",
       "        vertical-align: top;\n",
       "    }\n",
       "\n",
       "    .dataframe thead th {\n",
       "        text-align: right;\n",
       "    }\n",
       "</style>\n",
       "<table border=\"1\" class=\"dataframe\">\n",
       "  <thead>\n",
       "    <tr style=\"text-align: right;\">\n",
       "      <th></th>\n",
       "      <th></th>\n",
       "      <th></th>\n",
       "      <th>problem</th>\n",
       "      <th>actual</th>\n",
       "    </tr>\n",
       "    <tr>\n",
       "      <th>level</th>\n",
       "      <th>type</th>\n",
       "      <th></th>\n",
       "      <th></th>\n",
       "      <th></th>\n",
       "    </tr>\n",
       "  </thead>\n",
       "  <tbody>\n",
       "    <tr>\n",
       "      <th rowspan=\"5\" valign=\"top\">Level 1</th>\n",
       "      <th rowspan=\"2\" valign=\"top\">Algebra</th>\n",
       "      <th>1008</th>\n",
       "      <td>4.0</td>\n",
       "      <td>1.0</td>\n",
       "    </tr>\n",
       "    <tr>\n",
       "      <th>497</th>\n",
       "      <td>27.0</td>\n",
       "      <td>27.0</td>\n",
       "    </tr>\n",
       "    <tr>\n",
       "      <th rowspan=\"2\" valign=\"top\">Counting &amp; Probability</th>\n",
       "      <th>1552</th>\n",
       "      <td>3.0</td>\n",
       "      <td>3.0</td>\n",
       "    </tr>\n",
       "    <tr>\n",
       "      <th>1418</th>\n",
       "      <td>4.0</td>\n",
       "      <td>3.0</td>\n",
       "    </tr>\n",
       "    <tr>\n",
       "      <th>Geometry</th>\n",
       "      <th>2008</th>\n",
       "      <td>16.0</td>\n",
       "      <td>24.0</td>\n",
       "    </tr>\n",
       "    <tr>\n",
       "      <th>...</th>\n",
       "      <th>...</th>\n",
       "      <th>...</th>\n",
       "      <td>...</td>\n",
       "      <td>...</td>\n",
       "    </tr>\n",
       "    <tr>\n",
       "      <th rowspan=\"5\" valign=\"top\">Level 5</th>\n",
       "      <th>Number Theory</th>\n",
       "      <th>3167</th>\n",
       "      <td>1.0</td>\n",
       "      <td>24.0</td>\n",
       "    </tr>\n",
       "    <tr>\n",
       "      <th rowspan=\"2\" valign=\"top\">Prealgebra</th>\n",
       "      <th>3838</th>\n",
       "      <td>36.0</td>\n",
       "      <td>36.0</td>\n",
       "    </tr>\n",
       "    <tr>\n",
       "      <th>4238</th>\n",
       "      <td>1999.0</td>\n",
       "      <td>10090.0</td>\n",
       "    </tr>\n",
       "    <tr>\n",
       "      <th rowspan=\"2\" valign=\"top\">Precalculus</th>\n",
       "      <th>4642</th>\n",
       "      <td>1.0</td>\n",
       "      <td>12.0</td>\n",
       "    </tr>\n",
       "    <tr>\n",
       "      <th>4880</th>\n",
       "      <td>1.0</td>\n",
       "      <td>159.0</td>\n",
       "    </tr>\n",
       "  </tbody>\n",
       "</table>\n",
       "<p>70 rows × 2 columns</p>\n",
       "</div>"
      ],
      "text/plain": [
       "                                     problem   actual\n",
       "level   type                                         \n",
       "Level 1 Algebra                1008      4.0      1.0\n",
       "                               497      27.0     27.0\n",
       "        Counting & Probability 1552      3.0      3.0\n",
       "                               1418      4.0      3.0\n",
       "        Geometry               2008     16.0     24.0\n",
       "...                                      ...      ...\n",
       "Level 5 Number Theory          3167      1.0     24.0\n",
       "        Prealgebra             3838     36.0     36.0\n",
       "                               4238   1999.0  10090.0\n",
       "        Precalculus            4642      1.0     12.0\n",
       "                               4880      1.0    159.0\n",
       "\n",
       "[70 rows x 2 columns]"
      ]
     },
     "execution_count": 37,
     "metadata": {},
     "output_type": "execute_result"
    }
   ],
   "source": [
    "pd.concat([pred.apply(MATH.extract_answer), df1['actual']], axis=1)\n",
    "\n",
    "# todo: review how you did pandas,\n",
    "# read https://pandas.pydata.org/docs/user_guide/groupby.html"
   ]
  },
  {
   "cell_type": "code",
   "execution_count": 7,
   "metadata": {},
   "outputs": [
    {
     "name": "stdout",
     "output_type": "stream",
     "text": [
      "answer in boxed not found\n"
     ]
    }
   ],
   "source": [
    "from datasets import MATH\n",
    "MATH.extract_answer(pred.loc[2803, 'output_lengthy'])"
   ]
  },
  {
   "cell_type": "code",
   "execution_count": 4,
   "metadata": {},
   "outputs": [
    {
     "data": {
      "text/html": [
       "<div>\n",
       "<style scoped>\n",
       "    .dataframe tbody tr th:only-of-type {\n",
       "        vertical-align: middle;\n",
       "    }\n",
       "\n",
       "    .dataframe tbody tr th {\n",
       "        vertical-align: top;\n",
       "    }\n",
       "\n",
       "    .dataframe thead th {\n",
       "        text-align: right;\n",
       "    }\n",
       "</style>\n",
       "<table border=\"1\" class=\"dataframe\">\n",
       "  <thead>\n",
       "    <tr style=\"text-align: right;\">\n",
       "      <th></th>\n",
       "      <th>problem</th>\n",
       "      <th>level</th>\n",
       "      <th>type</th>\n",
       "      <th>solution</th>\n",
       "      <th>json_number</th>\n",
       "      <th>id</th>\n",
       "      <th>output</th>\n",
       "    </tr>\n",
       "  </thead>\n",
       "  <tbody>\n",
       "    <tr>\n",
       "      <th>0</th>\n",
       "      <td>Let $a,$ $b,$ $c$ be positive real numbers.  F...</td>\n",
       "      <td>Level 3</td>\n",
       "      <td>Intermediate Algebra</td>\n",
       "      <td>By QM-AM,\\n\\[\\sqrt{\\frac{x^2 + y^2 + z^2}{3}} ...</td>\n",
       "      <td>437</td>\n",
       "      <td>2803</td>\n",
       "      <td>None</td>\n",
       "    </tr>\n",
       "    <tr>\n",
       "      <th>1</th>\n",
       "      <td>Given $\\mathbf{a} = \\begin{pmatrix} 2 \\\\ 1 \\\\ ...</td>\n",
       "      <td>Level 3</td>\n",
       "      <td>Precalculus</td>\n",
       "      <td>We have that\\n\\begin{align*}\\n(\\mathbf{a} \\tim...</td>\n",
       "      <td>1004</td>\n",
       "      <td>4459</td>\n",
       "      <td>None</td>\n",
       "    </tr>\n",
       "  </tbody>\n",
       "</table>\n",
       "</div>"
      ],
      "text/plain": [
       "                                             problem    level  \\\n",
       "0  Let $a,$ $b,$ $c$ be positive real numbers.  F...  Level 3   \n",
       "1  Given $\\mathbf{a} = \\begin{pmatrix} 2 \\\\ 1 \\\\ ...  Level 3   \n",
       "\n",
       "                   type                                           solution  \\\n",
       "0  Intermediate Algebra  By QM-AM,\\n\\[\\sqrt{\\frac{x^2 + y^2 + z^2}{3}} ...   \n",
       "1           Precalculus  We have that\\n\\begin{align*}\\n(\\mathbf{a} \\tim...   \n",
       "\n",
       "   json_number    id output  \n",
       "0          437  2803   None  \n",
       "1         1004  4459   None  "
      ]
     },
     "execution_count": 4,
     "metadata": {},
     "output_type": "execute_result"
    }
   ],
   "source": [
    "merged_df = pd.merge(df3, pred[['id', 'output']], on='id')\n",
    "merged_df"
   ]
  },
  {
   "cell_type": "code",
   "execution_count": 7,
   "metadata": {},
   "outputs": [
    {
     "name": "stdout",
     "output_type": "stream",
     "text": [
      "Collecting git+https://github.com/hendrycks/math.git\n",
      "  Cloning https://github.com/hendrycks/math.git to c:\\users\\a0306\\appdata\\local\\temp\\pip-req-build-ky0t90fv\n",
      "  Resolved https://github.com/hendrycks/math.git to commit 357963a7f5501a6c1708cf3f3fb0cdf525642761\n",
      "  Preparing metadata (setup.py): started\n",
      "  Preparing metadata (setup.py): finished with status 'done'\n",
      "Building wheels for collected packages: math-equivalence\n",
      "  Building wheel for math-equivalence (setup.py): started\n",
      "  Building wheel for math-equivalence (setup.py): finished with status 'done'\n",
      "  Created wheel for math-equivalence: filename=math_equivalence-0.0.0-py3-none-any.whl size=3509 sha256=072d83a6d524bb41728c6a4a3b239173b2f0894e646470e7778cc2685ae3150a\n",
      "  Stored in directory: C:\\Users\\a0306\\AppData\\Local\\Temp\\pip-ephem-wheel-cache-yz7idzj1\\wheels\\b7\\16\\f0\\4a69d4d9b720086e22842cbd2d896b66298e6424b8f289f37c\n",
      "Successfully built math-equivalence\n",
      "Installing collected packages: math-equivalence\n",
      "Successfully installed math-equivalence-0.0.0\n",
      "Note: you may need to restart the kernel to use updated packages.\n"
     ]
    },
    {
     "name": "stderr",
     "output_type": "stream",
     "text": [
      "  Running command git clone --filter=blob:none --quiet https://github.com/hendrycks/math.git 'C:\\Users\\a0306\\AppData\\Local\\Temp\\pip-req-build-ky0t90fv'\n"
     ]
    }
   ],
   "source": [
    "pip install git+https://github.com/hendrycks/math.git"
   ]
  },
  {
   "cell_type": "code",
   "execution_count": 2,
   "metadata": {},
   "outputs": [],
   "source": [
    "import math_equivalence\n"
   ]
  },
  {
   "cell_type": "code",
   "execution_count": 8,
   "metadata": {},
   "outputs": [
    {
     "name": "stdout",
     "output_type": "stream",
     "text": [
      "47 49\n"
     ]
    }
   ],
   "source": [
    "y_true = extract_answer(merged_df.loc[0, 'solution'])\n",
    "y_pred = extract_answer(merged_df.loc[0, 'output'])\n",
    "print(y_pred, y_true)"
   ]
  },
  {
   "cell_type": "code",
   "execution_count": 10,
   "metadata": {},
   "outputs": [
    {
     "name": "stdout",
     "output_type": "stream",
     "text": [
      "What is the value of $x$ which satisfies $\\sqrt[3]{x\\sqrt{x}}=7$?\n",
      "We start by cubing both sides to get rid of the cube root:\n",
      "$$\\sqrt[3]{x\\sqrt{x}}=7$$\n",
      "$$(\\sqrt[3]{x\\sqrt{x}})^3=7^3$$\n",
      "$$x\\sqrt{x}=343$$\n",
      "Now, we can square both sides to eliminate the square root:\n",
      "$$x^2\\cdot x=343^2$$\n",
      "$$x^3=117649$$\n",
      "Taking the cube root of both sides, we find that $x= \\boxed{47}$.\n"
     ]
    }
   ],
   "source": [
    "print(merged_df.loc[0, 'problem'])\n",
    "print(\"-----------------\")\n",
    "print(merged_df.loc[0, 'output'])"
   ]
  },
  {
   "cell_type": "code",
   "execution_count": 12,
   "metadata": {},
   "outputs": [
    {
     "data": {
      "text/plain": [
       "'Each of the five marked angles measures $360/5=72$ degrees, so $\\\\boxed{72}$ degrees is the minimum angle through which the pentagon may be rotated so that it coincides with its original position.\\n\\n[asy]\\nsize(150);\\ndefaultpen(linewidth(0.7));\\nint i;\\nfor(i=0;i<=4;++i)\\n\\n{\\ndraw(origin--dir(18+72*i)--dir(18+72*(i+1)));\\ndraw(anglemark(dir(18+72*i),origin,dir(18+72*(i+1)),3+fmod(i,3)));\\n}\\n[/asy]'"
      ]
     },
     "execution_count": 12,
     "metadata": {},
     "output_type": "execute_result"
    }
   ],
   "source": [
    "merged_df.loc[0, 'solution']"
   ]
  },
  {
   "cell_type": "markdown",
   "metadata": {},
   "source": [
    "# Testing contest train data"
   ]
  },
  {
   "cell_type": "code",
   "execution_count": 7,
   "metadata": {},
   "outputs": [],
   "source": [
    "from models.gpt3 import GPT3\n",
    "\n",
    "system_prompt = \"You are an assistant that is very good at mathematics. Given a mathematics problem, determine the answer, which is always an integer. Put your answer in the box \\\\boxed{}\"\n",
    "\n",
    "my_model = GPT3(system_prompt=system_prompt)\n",
    "\n"
   ]
  },
  {
   "cell_type": "code",
   "execution_count": 5,
   "metadata": {},
   "outputs": [
    {
     "data": {
      "text/html": [
       "<div>\n",
       "<style scoped>\n",
       "    .dataframe tbody tr th:only-of-type {\n",
       "        vertical-align: middle;\n",
       "    }\n",
       "\n",
       "    .dataframe tbody tr th {\n",
       "        vertical-align: top;\n",
       "    }\n",
       "\n",
       "    .dataframe thead th {\n",
       "        text-align: right;\n",
       "    }\n",
       "</style>\n",
       "<table border=\"1\" class=\"dataframe\">\n",
       "  <thead>\n",
       "    <tr style=\"text-align: right;\">\n",
       "      <th></th>\n",
       "      <th>id</th>\n",
       "      <th>problem</th>\n",
       "      <th>answer</th>\n",
       "    </tr>\n",
       "  </thead>\n",
       "  <tbody>\n",
       "    <tr>\n",
       "      <th>0</th>\n",
       "      <td>229ee8</td>\n",
       "      <td>Let $k, l &gt; 0$ be parameters. The parabola $y ...</td>\n",
       "      <td>52</td>\n",
       "    </tr>\n",
       "    <tr>\n",
       "      <th>1</th>\n",
       "      <td>246d26</td>\n",
       "      <td>Each of the three-digits numbers $111$ to $999...</td>\n",
       "      <td>250</td>\n",
       "    </tr>\n",
       "    <tr>\n",
       "      <th>2</th>\n",
       "      <td>2fc4ad</td>\n",
       "      <td>Let the `sparkle' operation on positive intege...</td>\n",
       "      <td>702</td>\n",
       "    </tr>\n",
       "    <tr>\n",
       "      <th>3</th>\n",
       "      <td>430b63</td>\n",
       "      <td>What is the minimum value of $5x^2+5y^2-8xy$ w...</td>\n",
       "      <td>800</td>\n",
       "    </tr>\n",
       "    <tr>\n",
       "      <th>4</th>\n",
       "      <td>5277ed</td>\n",
       "      <td>There exists a unique increasing geometric seq...</td>\n",
       "      <td>211</td>\n",
       "    </tr>\n",
       "    <tr>\n",
       "      <th>5</th>\n",
       "      <td>739bc9</td>\n",
       "      <td>For how many positive integers $m$ does the eq...</td>\n",
       "      <td>199</td>\n",
       "    </tr>\n",
       "    <tr>\n",
       "      <th>6</th>\n",
       "      <td>82e2a0</td>\n",
       "      <td>Suppose that we roll four 6-sided fair dice wi...</td>\n",
       "      <td>185</td>\n",
       "    </tr>\n",
       "    <tr>\n",
       "      <th>7</th>\n",
       "      <td>8ee6f3</td>\n",
       "      <td>The points $\\left(x, y\\right)$ satisfying $((\\...</td>\n",
       "      <td>320</td>\n",
       "    </tr>\n",
       "    <tr>\n",
       "      <th>8</th>\n",
       "      <td>bedda4</td>\n",
       "      <td>Let $ABCD$ be a unit square. Let $P$ be the po...</td>\n",
       "      <td>480</td>\n",
       "    </tr>\n",
       "    <tr>\n",
       "      <th>9</th>\n",
       "      <td>d7e9c9</td>\n",
       "      <td>A function $f: \\mathbb N \\to \\mathbb N$ satisf...</td>\n",
       "      <td>199</td>\n",
       "    </tr>\n",
       "  </tbody>\n",
       "</table>\n",
       "</div>"
      ],
      "text/plain": [
       "       id                                            problem  answer\n",
       "0  229ee8  Let $k, l > 0$ be parameters. The parabola $y ...      52\n",
       "1  246d26  Each of the three-digits numbers $111$ to $999...     250\n",
       "2  2fc4ad  Let the `sparkle' operation on positive intege...     702\n",
       "3  430b63  What is the minimum value of $5x^2+5y^2-8xy$ w...     800\n",
       "4  5277ed  There exists a unique increasing geometric seq...     211\n",
       "5  739bc9  For how many positive integers $m$ does the eq...     199\n",
       "6  82e2a0  Suppose that we roll four 6-sided fair dice wi...     185\n",
       "7  8ee6f3  The points $\\left(x, y\\right)$ satisfying $((\\...     320\n",
       "8  bedda4  Let $ABCD$ be a unit square. Let $P$ be the po...     480\n",
       "9  d7e9c9  A function $f: \\mathbb N \\to \\mathbb N$ satisf...     199"
      ]
     },
     "execution_count": 5,
     "metadata": {},
     "output_type": "execute_result"
    }
   ],
   "source": [
    "contest_df = pd.read_csv(\"train.csv\")\n",
    "contest_df"
   ]
  },
  {
   "cell_type": "code",
   "execution_count": 8,
   "metadata": {},
   "outputs": [],
   "source": [
    "pred = my_model.predict(contest_df[['id', 'problem']]) # 24 seconds"
   ]
  },
  {
   "cell_type": "code",
   "execution_count": 9,
   "metadata": {},
   "outputs": [
    {
     "data": {
      "text/html": [
       "<div>\n",
       "<style scoped>\n",
       "    .dataframe tbody tr th:only-of-type {\n",
       "        vertical-align: middle;\n",
       "    }\n",
       "\n",
       "    .dataframe tbody tr th {\n",
       "        vertical-align: top;\n",
       "    }\n",
       "\n",
       "    .dataframe thead th {\n",
       "        text-align: right;\n",
       "    }\n",
       "</style>\n",
       "<table border=\"1\" class=\"dataframe\">\n",
       "  <thead>\n",
       "    <tr style=\"text-align: right;\">\n",
       "      <th></th>\n",
       "      <th>id</th>\n",
       "      <th>problem</th>\n",
       "      <th>output_lengthy</th>\n",
       "      <th>output</th>\n",
       "    </tr>\n",
       "  </thead>\n",
       "  <tbody>\n",
       "    <tr>\n",
       "      <th>0</th>\n",
       "      <td>229ee8</td>\n",
       "      <td>Let $k, l &gt; 0$ be parameters. The parabola $y ...</td>\n",
       "      <td>Let's find the $x$-coordinates of points $A$ a...</td>\n",
       "      <td>45.0</td>\n",
       "    </tr>\n",
       "    <tr>\n",
       "      <th>1</th>\n",
       "      <td>246d26</td>\n",
       "      <td>Each of the three-digits numbers $111$ to $999...</td>\n",
       "      <td>$\\boxed{26}$.</td>\n",
       "      <td>26.0</td>\n",
       "    </tr>\n",
       "    <tr>\n",
       "      <th>2</th>\n",
       "      <td>2fc4ad</td>\n",
       "      <td>Let the `sparkle' operation on positive intege...</td>\n",
       "      <td>$\\boxed{8}$.</td>\n",
       "      <td>8.0</td>\n",
       "    </tr>\n",
       "    <tr>\n",
       "      <th>3</th>\n",
       "      <td>430b63</td>\n",
       "      <td>What is the minimum value of $5x^2+5y^2-8xy$ w...</td>\n",
       "      <td>The minimum value of $5x^2+5y^2-8xy$ is $\\boxe...</td>\n",
       "      <td>3200.0</td>\n",
       "    </tr>\n",
       "    <tr>\n",
       "      <th>4</th>\n",
       "      <td>5277ed</td>\n",
       "      <td>There exists a unique increasing geometric seq...</td>\n",
       "      <td>The geometric sequence is $10, 20, 40, 80, 160...</td>\n",
       "      <td>310.0</td>\n",
       "    </tr>\n",
       "    <tr>\n",
       "      <th>5</th>\n",
       "      <td>739bc9</td>\n",
       "      <td>For how many positive integers $m$ does the eq...</td>\n",
       "      <td>$\\boxed{5}$.</td>\n",
       "      <td>5.0</td>\n",
       "    </tr>\n",
       "    <tr>\n",
       "      <th>6</th>\n",
       "      <td>82e2a0</td>\n",
       "      <td>Suppose that we roll four 6-sided fair dice wi...</td>\n",
       "      <td>The total number of outcomes when rolling four...</td>\n",
       "      <td>329.0</td>\n",
       "    </tr>\n",
       "    <tr>\n",
       "      <th>7</th>\n",
       "      <td>8ee6f3</td>\n",
       "      <td>The points $\\left(x, y\\right)$ satisfying $((\\...</td>\n",
       "      <td>The given equation $(\\vert x + y \\vert - 10)^2...</td>\n",
       "      <td>200.0</td>\n",
       "    </tr>\n",
       "    <tr>\n",
       "      <th>8</th>\n",
       "      <td>bedda4</td>\n",
       "      <td>Let $ABCD$ be a unit square. Let $P$ be the po...</td>\n",
       "      <td>The largest region is the triangle formed by t...</td>\n",
       "      <td>NaN</td>\n",
       "    </tr>\n",
       "    <tr>\n",
       "      <th>9</th>\n",
       "      <td>d7e9c9</td>\n",
       "      <td>A function $f: \\mathbb N \\to \\mathbb N$ satisf...</td>\n",
       "      <td>We can deduce that $f(n)$ is an increasing fun...</td>\n",
       "      <td>201.0</td>\n",
       "    </tr>\n",
       "  </tbody>\n",
       "</table>\n",
       "</div>"
      ],
      "text/plain": [
       "       id                                            problem  \\\n",
       "0  229ee8  Let $k, l > 0$ be parameters. The parabola $y ...   \n",
       "1  246d26  Each of the three-digits numbers $111$ to $999...   \n",
       "2  2fc4ad  Let the `sparkle' operation on positive intege...   \n",
       "3  430b63  What is the minimum value of $5x^2+5y^2-8xy$ w...   \n",
       "4  5277ed  There exists a unique increasing geometric seq...   \n",
       "5  739bc9  For how many positive integers $m$ does the eq...   \n",
       "6  82e2a0  Suppose that we roll four 6-sided fair dice wi...   \n",
       "7  8ee6f3  The points $\\left(x, y\\right)$ satisfying $((\\...   \n",
       "8  bedda4  Let $ABCD$ be a unit square. Let $P$ be the po...   \n",
       "9  d7e9c9  A function $f: \\mathbb N \\to \\mathbb N$ satisf...   \n",
       "\n",
       "                                      output_lengthy  output  \n",
       "0  Let's find the $x$-coordinates of points $A$ a...    45.0  \n",
       "1                                      $\\boxed{26}$.    26.0  \n",
       "2                                       $\\boxed{8}$.     8.0  \n",
       "3  The minimum value of $5x^2+5y^2-8xy$ is $\\boxe...  3200.0  \n",
       "4  The geometric sequence is $10, 20, 40, 80, 160...   310.0  \n",
       "5                                       $\\boxed{5}$.     5.0  \n",
       "6  The total number of outcomes when rolling four...   329.0  \n",
       "7  The given equation $(\\vert x + y \\vert - 10)^2...   200.0  \n",
       "8  The largest region is the triangle formed by t...     NaN  \n",
       "9  We can deduce that $f(n)$ is an increasing fun...   201.0  "
      ]
     },
     "execution_count": 9,
     "metadata": {},
     "output_type": "execute_result"
    }
   ],
   "source": [
    "pred"
   ]
  },
  {
   "cell_type": "code",
   "execution_count": null,
   "metadata": {},
   "outputs": [],
   "source": []
  }
 ],
 "metadata": {
  "kernelspec": {
   "display_name": "base",
   "language": "python",
   "name": "python3"
  },
  "language_info": {
   "codemirror_mode": {
    "name": "ipython",
    "version": 3
   },
   "file_extension": ".py",
   "mimetype": "text/x-python",
   "name": "python",
   "nbconvert_exporter": "python",
   "pygments_lexer": "ipython3",
   "version": "3.11.4"
  }
 },
 "nbformat": 4,
 "nbformat_minor": 2
}
