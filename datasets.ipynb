{
 "cells": [
  {
   "cell_type": "code",
   "execution_count": 1,
   "metadata": {},
   "outputs": [],
   "source": [
    "import os\n",
    "import json\n",
    "import pandas as pd\n",
    "\n",
    "test_root = \"data/test\"\n",
    "\n",
    "data_records = []\n",
    "for kind in os.listdir(test_root):\n",
    "    path = os.path.join(test_root, kind)\n",
    "    for f in os.listdir(path):\n",
    "        if not f.endswith('.json'):\n",
    "            print(\"warning: has non-json file\")\n",
    "            continue\n",
    "\n",
    "        with open(os.path.join(path, f), \"r\") as j:\n",
    "            data = json.load(j)\n",
    "            data[\"json_number\"] = int(f.split('.')[0]) # json_number means \n",
    "                                                       # if this data comes from 1.json\n",
    "                                                       # then it is 1\n",
    "            data_records.append(data)\n",
    "\n",
    "df = pd.DataFrame(data_records)\n",
    "df['id'] = df.index"
   ]
  },
  {
   "cell_type": "code",
   "execution_count": 2,
   "metadata": {},
   "outputs": [
    {
     "data": {
      "text/html": [
       "<div>\n",
       "<style scoped>\n",
       "    .dataframe tbody tr th:only-of-type {\n",
       "        vertical-align: middle;\n",
       "    }\n",
       "\n",
       "    .dataframe tbody tr th {\n",
       "        vertical-align: top;\n",
       "    }\n",
       "\n",
       "    .dataframe thead th {\n",
       "        text-align: right;\n",
       "    }\n",
       "</style>\n",
       "<table border=\"1\" class=\"dataframe\">\n",
       "  <thead>\n",
       "    <tr style=\"text-align: right;\">\n",
       "      <th></th>\n",
       "      <th>problem</th>\n",
       "      <th>level</th>\n",
       "      <th>type</th>\n",
       "      <th>solution</th>\n",
       "      <th>json_number</th>\n",
       "      <th>id</th>\n",
       "    </tr>\n",
       "  </thead>\n",
       "  <tbody>\n",
       "    <tr>\n",
       "      <th>0</th>\n",
       "      <td>How many vertical asymptotes does the graph of...</td>\n",
       "      <td>Level 3</td>\n",
       "      <td>Algebra</td>\n",
       "      <td>The denominator of the rational function facto...</td>\n",
       "      <td>1</td>\n",
       "      <td>0</td>\n",
       "    </tr>\n",
       "    <tr>\n",
       "      <th>14</th>\n",
       "      <td>Kite $ABCD$ (a quadrilateral with two pairs of...</td>\n",
       "      <td>Level 3</td>\n",
       "      <td>Algebra</td>\n",
       "      <td>As the problem suggests, we need to compute th...</td>\n",
       "      <td>1026</td>\n",
       "      <td>14</td>\n",
       "    </tr>\n",
       "    <tr>\n",
       "      <th>17</th>\n",
       "      <td>If $A$, $B$ and $C$ are positive integers such...</td>\n",
       "      <td>Level 3</td>\n",
       "      <td>Algebra</td>\n",
       "      <td>Multiplying the numerator and denominator of t...</td>\n",
       "      <td>1034</td>\n",
       "      <td>17</td>\n",
       "    </tr>\n",
       "    <tr>\n",
       "      <th>18</th>\n",
       "      <td>Ten treeks weigh as much as three squigs and o...</td>\n",
       "      <td>Level 3</td>\n",
       "      <td>Algebra</td>\n",
       "      <td>Let $t,s,g$ be the weight of one treek, the we...</td>\n",
       "      <td>1035</td>\n",
       "      <td>18</td>\n",
       "    </tr>\n",
       "    <tr>\n",
       "      <th>23</th>\n",
       "      <td>At constant temperature, the pressure of a sam...</td>\n",
       "      <td>Level 3</td>\n",
       "      <td>Algebra</td>\n",
       "      <td>Since the pressure $p$ of the hydrogen and the...</td>\n",
       "      <td>1049</td>\n",
       "      <td>23</td>\n",
       "    </tr>\n",
       "  </tbody>\n",
       "</table>\n",
       "</div>"
      ],
      "text/plain": [
       "                                              problem    level     type  \\\n",
       "0   How many vertical asymptotes does the graph of...  Level 3  Algebra   \n",
       "14  Kite $ABCD$ (a quadrilateral with two pairs of...  Level 3  Algebra   \n",
       "17  If $A$, $B$ and $C$ are positive integers such...  Level 3  Algebra   \n",
       "18  Ten treeks weigh as much as three squigs and o...  Level 3  Algebra   \n",
       "23  At constant temperature, the pressure of a sam...  Level 3  Algebra   \n",
       "\n",
       "                                             solution  json_number  id  \n",
       "0   The denominator of the rational function facto...            1   0  \n",
       "14  As the problem suggests, we need to compute th...         1026  14  \n",
       "17  Multiplying the numerator and denominator of t...         1034  17  \n",
       "18  Let $t,s,g$ be the weight of one treek, the we...         1035  18  \n",
       "23  Since the pressure $p$ of the hydrogen and the...         1049  23  "
      ]
     },
     "execution_count": 2,
     "metadata": {},
     "output_type": "execute_result"
    }
   ],
   "source": [
    "level = 3\n",
    "df3 = df[df['level'] == f\"Level {level}\"]\n",
    "df3.head()"
   ]
  },
  {
   "cell_type": "code",
   "execution_count": 3,
   "metadata": {},
   "outputs": [
    {
     "name": "stdout",
     "output_type": "stream",
     "text": [
      "answer in boxed not found\n",
      "answer in boxed not found\n"
     ]
    }
   ],
   "source": [
    "from models.gpt3 import GPT3\n",
    "\n",
    "my_model = GPT3()\n",
    "\n",
    "pred = my_model.predict(df3[['id', 'problem']], n_samples=2)"
   ]
  },
  {
   "cell_type": "code",
   "execution_count": 7,
   "metadata": {},
   "outputs": [
    {
     "name": "stdout",
     "output_type": "stream",
     "text": [
      "answer in boxed not found\n"
     ]
    }
   ],
   "source": [
    "from datasets import MATH\n",
    "MATH.extract_answer(pred.loc[2803, 'output_lengthy'])"
   ]
  },
  {
   "cell_type": "code",
   "execution_count": 4,
   "metadata": {},
   "outputs": [
    {
     "data": {
      "text/html": [
       "<div>\n",
       "<style scoped>\n",
       "    .dataframe tbody tr th:only-of-type {\n",
       "        vertical-align: middle;\n",
       "    }\n",
       "\n",
       "    .dataframe tbody tr th {\n",
       "        vertical-align: top;\n",
       "    }\n",
       "\n",
       "    .dataframe thead th {\n",
       "        text-align: right;\n",
       "    }\n",
       "</style>\n",
       "<table border=\"1\" class=\"dataframe\">\n",
       "  <thead>\n",
       "    <tr style=\"text-align: right;\">\n",
       "      <th></th>\n",
       "      <th>problem</th>\n",
       "      <th>level</th>\n",
       "      <th>type</th>\n",
       "      <th>solution</th>\n",
       "      <th>json_number</th>\n",
       "      <th>id</th>\n",
       "      <th>output</th>\n",
       "    </tr>\n",
       "  </thead>\n",
       "  <tbody>\n",
       "    <tr>\n",
       "      <th>0</th>\n",
       "      <td>Let $a,$ $b,$ $c$ be positive real numbers.  F...</td>\n",
       "      <td>Level 3</td>\n",
       "      <td>Intermediate Algebra</td>\n",
       "      <td>By QM-AM,\\n\\[\\sqrt{\\frac{x^2 + y^2 + z^2}{3}} ...</td>\n",
       "      <td>437</td>\n",
       "      <td>2803</td>\n",
       "      <td>None</td>\n",
       "    </tr>\n",
       "    <tr>\n",
       "      <th>1</th>\n",
       "      <td>Given $\\mathbf{a} = \\begin{pmatrix} 2 \\\\ 1 \\\\ ...</td>\n",
       "      <td>Level 3</td>\n",
       "      <td>Precalculus</td>\n",
       "      <td>We have that\\n\\begin{align*}\\n(\\mathbf{a} \\tim...</td>\n",
       "      <td>1004</td>\n",
       "      <td>4459</td>\n",
       "      <td>None</td>\n",
       "    </tr>\n",
       "  </tbody>\n",
       "</table>\n",
       "</div>"
      ],
      "text/plain": [
       "                                             problem    level  \\\n",
       "0  Let $a,$ $b,$ $c$ be positive real numbers.  F...  Level 3   \n",
       "1  Given $\\mathbf{a} = \\begin{pmatrix} 2 \\\\ 1 \\\\ ...  Level 3   \n",
       "\n",
       "                   type                                           solution  \\\n",
       "0  Intermediate Algebra  By QM-AM,\\n\\[\\sqrt{\\frac{x^2 + y^2 + z^2}{3}} ...   \n",
       "1           Precalculus  We have that\\n\\begin{align*}\\n(\\mathbf{a} \\tim...   \n",
       "\n",
       "   json_number    id output  \n",
       "0          437  2803   None  \n",
       "1         1004  4459   None  "
      ]
     },
     "execution_count": 4,
     "metadata": {},
     "output_type": "execute_result"
    }
   ],
   "source": [
    "merged_df = pd.merge(df3, pred[['id', 'output']], on='id')\n",
    "merged_df"
   ]
  },
  {
   "cell_type": "code",
   "execution_count": 7,
   "metadata": {},
   "outputs": [
    {
     "name": "stdout",
     "output_type": "stream",
     "text": [
      "Collecting git+https://github.com/hendrycks/math.git\n",
      "  Cloning https://github.com/hendrycks/math.git to c:\\users\\a0306\\appdata\\local\\temp\\pip-req-build-ky0t90fv\n",
      "  Resolved https://github.com/hendrycks/math.git to commit 357963a7f5501a6c1708cf3f3fb0cdf525642761\n",
      "  Preparing metadata (setup.py): started\n",
      "  Preparing metadata (setup.py): finished with status 'done'\n",
      "Building wheels for collected packages: math-equivalence\n",
      "  Building wheel for math-equivalence (setup.py): started\n",
      "  Building wheel for math-equivalence (setup.py): finished with status 'done'\n",
      "  Created wheel for math-equivalence: filename=math_equivalence-0.0.0-py3-none-any.whl size=3509 sha256=072d83a6d524bb41728c6a4a3b239173b2f0894e646470e7778cc2685ae3150a\n",
      "  Stored in directory: C:\\Users\\a0306\\AppData\\Local\\Temp\\pip-ephem-wheel-cache-yz7idzj1\\wheels\\b7\\16\\f0\\4a69d4d9b720086e22842cbd2d896b66298e6424b8f289f37c\n",
      "Successfully built math-equivalence\n",
      "Installing collected packages: math-equivalence\n",
      "Successfully installed math-equivalence-0.0.0\n",
      "Note: you may need to restart the kernel to use updated packages.\n"
     ]
    },
    {
     "name": "stderr",
     "output_type": "stream",
     "text": [
      "  Running command git clone --filter=blob:none --quiet https://github.com/hendrycks/math.git 'C:\\Users\\a0306\\AppData\\Local\\Temp\\pip-req-build-ky0t90fv'\n"
     ]
    }
   ],
   "source": [
    "pip install git+https://github.com/hendrycks/math.git"
   ]
  },
  {
   "cell_type": "code",
   "execution_count": 2,
   "metadata": {},
   "outputs": [],
   "source": [
    "import math_equivalence\n"
   ]
  },
  {
   "cell_type": "code",
   "execution_count": 8,
   "metadata": {},
   "outputs": [
    {
     "name": "stdout",
     "output_type": "stream",
     "text": [
      "47 49\n"
     ]
    }
   ],
   "source": [
    "y_true = extract_answer(merged_df.loc[0, 'solution'])\n",
    "y_pred = extract_answer(merged_df.loc[0, 'output'])\n",
    "print(y_pred, y_true)"
   ]
  },
  {
   "cell_type": "code",
   "execution_count": 10,
   "metadata": {},
   "outputs": [
    {
     "name": "stdout",
     "output_type": "stream",
     "text": [
      "What is the value of $x$ which satisfies $\\sqrt[3]{x\\sqrt{x}}=7$?\n",
      "We start by cubing both sides to get rid of the cube root:\n",
      "$$\\sqrt[3]{x\\sqrt{x}}=7$$\n",
      "$$(\\sqrt[3]{x\\sqrt{x}})^3=7^3$$\n",
      "$$x\\sqrt{x}=343$$\n",
      "Now, we can square both sides to eliminate the square root:\n",
      "$$x^2\\cdot x=343^2$$\n",
      "$$x^3=117649$$\n",
      "Taking the cube root of both sides, we find that $x= \\boxed{47}$.\n"
     ]
    }
   ],
   "source": [
    "print(merged_df.loc[0, 'problem'])\n",
    "print(\"-----------------\")\n",
    "print(merged_df.loc[0, 'output'])"
   ]
  },
  {
   "cell_type": "code",
   "execution_count": 12,
   "metadata": {},
   "outputs": [
    {
     "data": {
      "text/plain": [
       "'Each of the five marked angles measures $360/5=72$ degrees, so $\\\\boxed{72}$ degrees is the minimum angle through which the pentagon may be rotated so that it coincides with its original position.\\n\\n[asy]\\nsize(150);\\ndefaultpen(linewidth(0.7));\\nint i;\\nfor(i=0;i<=4;++i)\\n\\n{\\ndraw(origin--dir(18+72*i)--dir(18+72*(i+1)));\\ndraw(anglemark(dir(18+72*i),origin,dir(18+72*(i+1)),3+fmod(i,3)));\\n}\\n[/asy]'"
      ]
     },
     "execution_count": 12,
     "metadata": {},
     "output_type": "execute_result"
    }
   ],
   "source": [
    "merged_df.loc[0, 'solution']"
   ]
  }
 ],
 "metadata": {
  "kernelspec": {
   "display_name": "base",
   "language": "python",
   "name": "python3"
  },
  "language_info": {
   "codemirror_mode": {
    "name": "ipython",
    "version": 3
   },
   "file_extension": ".py",
   "mimetype": "text/x-python",
   "name": "python",
   "nbconvert_exporter": "python",
   "pygments_lexer": "ipython3",
   "version": "3.11.4"
  }
 },
 "nbformat": 4,
 "nbformat_minor": 2
}
